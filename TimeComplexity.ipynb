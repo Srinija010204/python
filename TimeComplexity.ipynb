{
 "cells": [
  {
   "cell_type": "code",
   "execution_count": 2,
   "metadata": {},
   "outputs": [
    {
     "name": "stdout",
     "output_type": "stream",
     "text": [
      "Time Complexity: O(n^2)\n"
     ]
    }
   ],
   "source": [
    "#Problem 1 :\n",
    "def quicksort(arr):\n",
    "    if len(arr) <= 1:\n",
    "        return arr\n",
    "    pivot = arr[len(arr) // 2]\n",
    "    left = [x for x in arr if x < pivot]\n",
    "    middle = [x for x in arr if x == pivot]\n",
    "    right = [x for x in arr if x > pivot]\n",
    "    return quicksort(left) + middle + quicksort(right)\n",
    "\n",
    "print(\"Time Complexity: O(n^2)\")"
   ]
  },
  {
   "cell_type": "code",
   "execution_count": 3,
   "metadata": {},
   "outputs": [
    {
     "name": "stdout",
     "output_type": "stream",
     "text": [
      "Time Complexity: O(m x n)\n"
     ]
    }
   ],
   "source": [
    "#problem 2:\n",
    "def nested_loop_example(matrix):\n",
    "    rows, cols = len(matrix), len(matrix[0])\n",
    "    total = 0\n",
    "    for i in range(rows):\n",
    "        for j in range(cols):\n",
    "            total += matrix[i][j]\n",
    "    return total\n",
    "\n",
    "print(\"Time Complexity: O(m x n)\")"
   ]
  },
  {
   "cell_type": "code",
   "execution_count": 4,
   "metadata": {},
   "outputs": [
    {
     "name": "stdout",
     "output_type": "stream",
     "text": [
      "Time Complexity: O(n)\n"
     ]
    }
   ],
   "source": [
    "#problem 3:\n",
    "def example_function(arr):\n",
    "    result = 0\n",
    "    for element in arr:\n",
    "        result += element\n",
    "    return result\n",
    "\n",
    "print(\"Time Complexity: O(n)\")"
   ]
  },
  {
   "cell_type": "code",
   "execution_count": 5,
   "metadata": {},
   "outputs": [
    {
     "name": "stdout",
     "output_type": "stream",
     "text": [
      "Time Complexity: O(n^2)\n"
     ]
    }
   ],
   "source": [
    "#problem 4:\n",
    "def longest_increasing_subsequence(nums):\n",
    "    n = len(nums)\n",
    "    lis = [1] * n\n",
    "    for i in range(1, n):\n",
    "        for j in range(0, i):\n",
    "            if nums[i] > nums[j] and lis[i] < lis[j] + 1:\n",
    "                lis[i] = lis[j] + 1\n",
    "    return max(lis)\n",
    "\n",
    "print(\"Time Complexity: O(n^2)\")"
   ]
  },
  {
   "cell_type": "code",
   "execution_count": 6,
   "metadata": {},
   "outputs": [
    {
     "name": "stdout",
     "output_type": "stream",
     "text": [
      "Time Complexity: O(n^2)\n"
     ]
    }
   ],
   "source": [
    "#problem 5:\n",
    "def mysterious_function(arr):\n",
    "    n = len(arr)\n",
    "    result = 0\n",
    "    for i in range(n):\n",
    "        for j in range(i, n):\n",
    "            result += arr[i] * arr[j]\n",
    "    return result\n",
    "\n",
    "print(\"Time Complexity: O(n^2)\")"
   ]
  },
  {
   "cell_type": "code",
   "execution_count": 8,
   "metadata": {},
   "outputs": [
    {
     "name": "stdout",
     "output_type": "stream",
     "text": [
      "6\n"
     ]
    }
   ],
   "source": [
    "#problem 6:\n",
    "def sum_of_digits(n):\n",
    "    if n == 0:\n",
    "        return 0\n",
    "    else:\n",
    "        return n % 10 + sum_of_digits(n // 10)\n",
    "\n",
    "print(sum_of_digits(123)) "
   ]
  },
  {
   "cell_type": "code",
   "execution_count": 9,
   "metadata": {},
   "outputs": [
    {
     "name": "stdout",
     "output_type": "stream",
     "text": [
      "[0, 1, 1, 2, 3, 5]\n"
     ]
    }
   ],
   "source": [
    "#problem 7:\n",
    "def fibonacci(n):\n",
    "    if n <= 0:\n",
    "        return 0\n",
    "    elif n == 1:\n",
    "        return 1\n",
    "    else:\n",
    "        return fibonacci(n-1) + fibonacci(n-2)\n",
    "\n",
    "def fibonacci_series(n):\n",
    "    series = []\n",
    "    for i in range(n):\n",
    "        series.append(fibonacci(i))\n",
    "    return series\n",
    "\n",
    "print(fibonacci_series(6)) "
   ]
  },
  {
   "cell_type": "code",
   "execution_count": 10,
   "metadata": {},
   "outputs": [
    {
     "name": "stdout",
     "output_type": "stream",
     "text": [
      "True\n"
     ]
    }
   ],
   "source": [
    "#problem 8:\n",
    "def subset_sum(arr, target):\n",
    "    # Helper function to use recursion\n",
    "    def subset_sum_recursive(arr, n, target):\n",
    "        # Base Cases\n",
    "        if target == 0:\n",
    "            return True\n",
    "        if n == 0 and target != 0:\n",
    "            return False\n",
    "        \n",
    "        # If the last element is greater than the target, ignore it\n",
    "        if arr[n-1] > target:\n",
    "            return subset_sum_recursive(arr, n-1, target)\n",
    "        \n",
    "        # Check if the target can be obtained by:\n",
    "        # (1) including the last element\n",
    "        # (2) excluding the last element\n",
    "        return (subset_sum_recursive(arr, n-1, target) or\n",
    "                subset_sum_recursive(arr, n-1, target - arr[n-1]))\n",
    "    \n",
    "    # Start the recursion with the full array and the target sum\n",
    "    return subset_sum_recursive(arr, len(arr), target)\n",
    "\n",
    "print(subset_sum([3, 34, 4, 12, 5, 2], 9))"
   ]
  },
  {
   "cell_type": "code",
   "execution_count": 11,
   "metadata": {},
   "outputs": [
    {
     "name": "stdout",
     "output_type": "stream",
     "text": [
      "True\n"
     ]
    }
   ],
   "source": [
    "#problem 9:\n",
    "def word_break(s, word_dict):\n",
    "    memo = {}  # Memoization dictionary\n",
    "    \n",
    "    def word_break_recursive(s):\n",
    "        if not s:\n",
    "            return True\n",
    "        \n",
    "        if s in memo:\n",
    "            return memo[s]\n",
    "        \n",
    "        for word in word_dict:\n",
    "            if s.startswith(word):\n",
    "                suffix = s[len(word):]\n",
    "                if word_break_recursive(suffix):\n",
    "                    memo[s] = True\n",
    "                    return True\n",
    "        \n",
    "        memo[s] = False\n",
    "        return False\n",
    "    \n",
    "    return word_break_recursive(s)\n",
    "\n",
    "print(word_break(\"leetcode\", [\"leet\", \"code\"]))"
   ]
  },
  {
   "cell_type": "code",
   "execution_count": 12,
   "metadata": {},
   "outputs": [
    {
     "name": "stdout",
     "output_type": "stream",
     "text": [
      "[[1, 3, 0, 2], [2, 0, 3, 1]]\n"
     ]
    }
   ],
   "source": [
    "#problem 10:\n",
    "def n_queens(n):\n",
    "    solutions = []\n",
    "\n",
    "    def is_safe(board, row, col):\n",
    "        # Check if there's a queen in the same column\n",
    "        for i in range(row):\n",
    "            if board[i] == col:\n",
    "                return False\n",
    "            # Check diagonals\n",
    "            if abs(row - i) == abs(col - board[i]):\n",
    "                return False\n",
    "        return True\n",
    "\n",
    "    def solve(board, row):\n",
    "        if row == n:\n",
    "            solutions.append(board[:])\n",
    "            return\n",
    "\n",
    "        for col in range(n):\n",
    "            if is_safe(board, row, col):\n",
    "                board[row] = col\n",
    "                solve(board, row + 1)\n",
    "                # Backtrack\n",
    "                board[row] = -1\n",
    "\n",
    "    board = [-1] * n\n",
    "    solve(board, 0)\n",
    "    return solutions\n",
    "\n",
    "print(n_queens(4))"
   ]
  }
 ],
 "metadata": {
  "kernelspec": {
   "display_name": "Python 3",
   "language": "python",
   "name": "python3"
  },
  "language_info": {
   "codemirror_mode": {
    "name": "ipython",
    "version": 3
   },
   "file_extension": ".py",
   "mimetype": "text/x-python",
   "name": "python",
   "nbconvert_exporter": "python",
   "pygments_lexer": "ipython3",
   "version": "3.11.9"
  }
 },
 "nbformat": 4,
 "nbformat_minor": 2
}
