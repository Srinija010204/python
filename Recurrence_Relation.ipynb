{
 "cells": [
  {
   "cell_type": "markdown",
   "metadata": {},
   "source": [
    "1) Find the value of T(2) for the recurrence relation T(n) = 3T(n-1) + 12n, given that T(0)=5.\n",
    "A: Given:\n",
    "T(0)= 5\n",
    "T(n)=3T(n−1)+12n\n",
    "\n",
    "T(1)=3T(0)+12×1=3×5+12=15+12=27\n",
    "\n",
    "T(2)=3T(1)+12×2=3×27+12×2=81+24=105"
   ]
  },
  {
   "cell_type": "markdown",
   "metadata": {},
   "source": [
    "2) Given a recurrence relation, solve it using the substitution method:\n",
    "\n",
    "a. T(n) = T(n-1) + c\n",
    "\n",
    "b. T(n) = 2T(n/2) + n\n",
    "\n",
    "c. T(n) = 2T(n/2) + c\n",
    "\n",
    "d. T(n) = T(n/2) + c"
   ]
  },
  {
   "cell_type": "markdown",
   "metadata": {},
   "source": [
    "a)\n",
    "A: Given:\n",
    "T(n)=T(n−1)+c\n",
    "T(n)=[T(n−2)+c]+c=T(n−2)+2c\n",
    "T(n)=T(n−3)+3c\n",
    "\n",
    "Continuing this process, after k steps, we'll have:\n",
    "T(n)=T(n−k)+kc\n",
    "We stop when n-k = 1\n",
    "T(n)=T(1)+nc\n",
    "T(n) = O(n) (time complexity)"
   ]
  },
  {
   "cell_type": "markdown",
   "metadata": {},
   "source": [
    "b)\n",
    "A: Given:\n",
    "T(n)=2T(n/2)+n\n",
    "\n",
    "Let's start by expanding T(n/2)\n",
    "T(n)=2[2T(n/4) + n/2] + n\n",
    "Final expression:\n",
    "T(n) = Cn + nlogn\n",
    "\n",
    "T(n) = O(nlogn) (time complexity)"
   ]
  },
  {
   "cell_type": "markdown",
   "metadata": {},
   "source": [
    "c)\n",
    "A: Given:\n",
    "T(n) = 2T(n/2) + c\n",
    "\n",
    "Let's start by expanding T(n/2)\n",
    "T(n) = 2[2T(n/4) ] + 2C\n",
    "Final expression:\n",
    "T(n) = Cn + logn\n",
    "T(n) = O(n) (time complexity)"
   ]
  },
  {
   "cell_type": "markdown",
   "metadata": {},
   "source": [
    "d)\n",
    "A: Given:\n",
    " T(n) = T(n/2) + c\n",
    "\n",
    "Let's start by expanding T(n/2)\n",
    "T(n) = T(n/4)+ 2C\n",
    "\n",
    "Final expression:\n",
    "T(n) = d + clogn\n",
    "T(n) = O(logn) (time complexity)"
   ]
  },
  {
   "cell_type": "markdown",
   "metadata": {},
   "source": [
    "3)  Given a recurrence relation, solve it using the recursive tree approach:\n",
    "\n",
    "a. T(n) = 2T(n-1) +1\n",
    "\n",
    "b. T(n) = 2T(n/2) + n"
   ]
  },
  {
   "cell_type": "markdown",
   "metadata": {},
   "source": [
    "a)\n",
    "A: T(n) = 2T(n-1) + 1\n",
    "     = 2[2T(n-2) + 1] + 1\n",
    "     = 2^2 * T(n-2) + 2 + 1\n",
    "     = 2^3 * T(n-3) + 2^2 + 2 + 1\n",
    "     ...\n",
    "     = 2^k * T(n-k) + 2^0 + 2^1 + ... + 2^{k-1}\n",
    "T(n) = O(2^n) (time complexity)"
   ]
  },
  {
   "cell_type": "markdown",
   "metadata": {},
   "source": [
    "b)\n",
    "A: T(n) = 2T(n/2) + n\n",
    "     = 2[2T(n/4) + n/2] + n\n",
    "     = 2^2 * T(n/4) + 2 * n/2 + n\n",
    "     = 2^3 * T(n/8) + 2^2 * n/4 + 2 * n/2 + n\n",
    "     ...\n",
    "     = 2^k * T(n/2^k) + n + n/2 + n/4 + ... + n/2^k\n",
    "\n",
    "T(n) = O(nlogn) (time complexity)"
   ]
  }
 ],
 "metadata": {
  "language_info": {
   "name": "python"
  }
 },
 "nbformat": 4,
 "nbformat_minor": 2
}
