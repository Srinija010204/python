{
 "cells": [
  {
   "cell_type": "markdown",
   "metadata": {},
   "source": [
    "For loop:\n",
    "\n",
    "1. Write a Python program to print numbers from 1 to 10 using a for loop.\n",
    "2. Explain the difference between a for loop and a while loop in Python.\n",
    "3. Write a Python program to calculate the sum of all numbers from 1 to 100 using a for loop.\n",
    "4. How do you iterate through a list using a for loop in Python?\n",
    "5. Write a Python program to find the product of all elements in a list using a for loop.\n",
    "6. Create a Python program that prints all even numbers from 1 to 20 using a for loop.\n",
    "7. Write a Python program that calculates the factorial of a number using a for loop.\n",
    "8. How can you iterate through the characters of a string using a for loop in Python?\n",
    "9. Write a Python program to find the largest number in a list using a for loop.\n",
    "10. Create a Python program that prints the Fibonacci sequence up to a specified limit using a for\n",
    "loop."
   ]
  },
  {
   "cell_type": "code",
   "execution_count": 2,
   "metadata": {},
   "outputs": [
    {
     "name": "stdout",
     "output_type": "stream",
     "text": [
      "1\n",
      "2\n",
      "3\n",
      "4\n",
      "5\n",
      "6\n",
      "7\n",
      "8\n",
      "9\n",
      "10\n"
     ]
    }
   ],
   "source": [
    "#1\n",
    "for i in range(1, 11):\n",
    "    print(i)"
   ]
  },
  {
   "cell_type": "markdown",
   "metadata": {},
   "source": [
    "#2\n",
    "Difference between a for loop and while loop:"
   ]
  },
  {
   "cell_type": "markdown",
   "metadata": {},
   "source": [
    "For Loop:\n",
    "Syntax: In most programming languages, the for loop has a specific syntax that includes an initialization, a condition, and an iteration expression.\n",
    "\n",
    "Use Cases: It's commonly used when you know the number of iterations or have a fixed range.\n",
    "\n",
    "Structure: The loop control variable is initialized, checked against a condition, and then incremented/decremented at each iteration.\n",
    "\n",
    "While Loop:\n",
    "Syntax: The while loop checks a condition before each iteration.\n",
    "\n",
    "Use Cases: It's used when the number of iterations is uncertain or based on a condition.\n",
    "\n",
    "Structure: It continues iterating as long as the condition remains true.\n"
   ]
  },
  {
   "cell_type": "code",
   "execution_count": 1,
   "metadata": {},
   "outputs": [
    {
     "name": "stdout",
     "output_type": "stream",
     "text": [
      "5050\n"
     ]
    }
   ],
   "source": [
    "#3\n",
    "sum = 0\n",
    "for i in range(1, 101):\n",
    "    sum += i\n",
    "print(sum)"
   ]
  },
  {
   "cell_type": "markdown",
   "metadata": {},
   "source": [
    "#4\n",
    "The for loop goes through each item in the list one by one and prints it. You can perform any operation or task within the loop using the item variable, which represents each element of the list as the loop iterates."
   ]
  },
  {
   "cell_type": "code",
   "execution_count": 6,
   "metadata": {},
   "outputs": [
    {
     "name": "stdout",
     "output_type": "stream",
     "text": [
      "17280\n"
     ]
    }
   ],
   "source": [
    "#5\n",
    "list1 = [5, 6, 2, 4, 9, 8]\n",
    "product = 1\n",
    "for i in list1:\n",
    "    product *= i\n",
    "print(product)"
   ]
  },
  {
   "cell_type": "code",
   "execution_count": 8,
   "metadata": {},
   "outputs": [
    {
     "name": "stdout",
     "output_type": "stream",
     "text": [
      "2\n",
      "4\n",
      "6\n",
      "8\n",
      "10\n",
      "12\n",
      "14\n",
      "16\n",
      "18\n",
      "20\n"
     ]
    }
   ],
   "source": [
    "#6\n",
    "for i in range(0, 21, 2):\n",
    "    if i != 0:\n",
    "        print(i)"
   ]
  },
  {
   "cell_type": "code",
   "execution_count": 14,
   "metadata": {},
   "outputs": [
    {
     "name": "stdout",
     "output_type": "stream",
     "text": [
      "720\n"
     ]
    }
   ],
   "source": [
    "#7\n",
    "num = 6\n",
    "fact = 1\n",
    "for i in range(num, 1, -1):\n",
    "    fact = fact*(i)\n",
    "print(fact)"
   ]
  },
  {
   "cell_type": "markdown",
   "metadata": {},
   "source": [
    "#8\n",
    "You can iterate through the characters of a string in Python using a for loop in a similar way to iterating through a list. In Python, strings are iterable, so you can loop through each character."
   ]
  },
  {
   "cell_type": "code",
   "execution_count": 29,
   "metadata": {},
   "outputs": [
    {
     "name": "stdout",
     "output_type": "stream",
     "text": [
      "8\n"
     ]
    }
   ],
   "source": [
    "#9\n",
    "list1 = [3, 4, 5, 1, 2, 7, 8, 6]\n",
    "max = list1[0]\n",
    "for i in range(1, len(list1)):\n",
    "    if list1[i] > max :\n",
    "        max = list1[i]\n",
    "print(max)"
   ]
  },
  {
   "cell_type": "code",
   "execution_count": 8,
   "metadata": {},
   "outputs": [
    {
     "name": "stdout",
     "output_type": "stream",
     "text": [
      "2 3 5 8 13 21 34 55 "
     ]
    }
   ],
   "source": [
    "#10\n",
    "n = 8\n",
    "a = 0\n",
    "b = 1\n",
    "c = a+b\n",
    "for i in range(0, n):\n",
    "    if n == 1:\n",
    "        print(a)\n",
    "        break\n",
    "    elif n == 2:\n",
    "        print(a, b)\n",
    "        break\n",
    "    else:\n",
    "        a = b\n",
    "        b = c\n",
    "        c = a+b\n",
    "        print(c, end = ' ')"
   ]
  },
  {
   "cell_type": "markdown",
   "metadata": {},
   "source": [
    "11. Write a Python program to count the number of vowels in a given string using a for loop.\n",
    "12. Create a Python program that generates a multiplication table for a given number using a for\n",
    "loop.\n",
    "13. Write a Python program to reverse a list using a for loop.\n",
    "14. Write a Python program to find the common elements between two lists using a for loop.\n",
    "15. Explain how to use a for loop to iterate through the keys and values of a dictionary in Python.\n",
    "16. Write a Python program to find the GCD (Greatest Common Divisor) of two numbers using a for\n",
    "loop.\n",
    "17. Create a Python program that checks if a string is a palindrome using a for loop.\n",
    "18. Write a Python program to remove duplicates from a list using a for loop.\n",
    "19. Create a Python program that counts the number of words in a sentence using a for loop.\n",
    "20. Write a Python program to find the sum of all odd numbers from 1 to 50 using a for loop.\n",
    "21. Write a Python program that checks if a given year is a leap year using a for loop.\n",
    "22. Create a Python program that calculates the square root of a number using a for loop.\n",
    "23. Write a Python program to find the LCM (Least Common Multiple) of two numbers using a for\n",
    "loop."
   ]
  },
  {
   "cell_type": "code",
   "execution_count": 12,
   "metadata": {},
   "outputs": [
    {
     "name": "stdout",
     "output_type": "stream",
     "text": [
      "9\n"
     ]
    }
   ],
   "source": [
    "#11\n",
    "str1 = 'Hii hello how are you?'\n",
    "count = 0\n",
    "vowels = ['a', 'e', 'i', 'o', 'u']\n",
    "for i in str1:\n",
    "    if i in vowels:\n",
    "        count += 1\n",
    "print(count)\n"
   ]
  },
  {
   "cell_type": "code",
   "execution_count": 13,
   "metadata": {},
   "outputs": [
    {
     "name": "stdout",
     "output_type": "stream",
     "text": [
      "8\n",
      "16\n",
      "24\n",
      "32\n",
      "40\n",
      "48\n",
      "56\n",
      "64\n",
      "72\n",
      "80\n"
     ]
    }
   ],
   "source": [
    "#12\n",
    "num = 8\n",
    "for i in range(1, 11):\n",
    "    print(num*i)"
   ]
  },
  {
   "cell_type": "code",
   "execution_count": 26,
   "metadata": {},
   "outputs": [
    {
     "name": "stdout",
     "output_type": "stream",
     "text": [
      "[2, 1, 8, 7, 4, 6]\n"
     ]
    }
   ],
   "source": [
    "#13\n",
    "list1 = [6, 4, 7, 8, 1, 2]\n",
    "reversed_list = []\n",
    "for i in range(len(list1)-1,-1,-1):\n",
    "    reversed_list.append(list1[i])\n",
    "print(reversed_list)"
   ]
  },
  {
   "cell_type": "code",
   "execution_count": 29,
   "metadata": {},
   "outputs": [
    {
     "name": "stdout",
     "output_type": "stream",
     "text": [
      "Common elements: \n",
      "4\n",
      "5\n",
      "6\n"
     ]
    }
   ],
   "source": [
    "#14\n",
    "list1 = [1, 2, 3, 4, 5, 6]\n",
    "list2 = [4, 5, 6, 7, 8, 9]\n",
    "print(\"Common elements: \")\n",
    "for i in list2:\n",
    "    if i in list1:\n",
    "        print(i)"
   ]
  },
  {
   "cell_type": "markdown",
   "metadata": {},
   "source": [
    "#15\n",
    "We can use the '.items()' method of the dictionary, which returns a sequence of tuples containing the key-value pairs. "
   ]
  },
  {
   "cell_type": "code",
   "execution_count": 1,
   "metadata": {},
   "outputs": [
    {
     "name": "stdout",
     "output_type": "stream",
     "text": [
      "The GCD of 25 and 70 is 5\n"
     ]
    }
   ],
   "source": [
    "#16\n",
    "def gcd(a, b):\n",
    "    min_num = min(a, b)\n",
    "    gcd_result = 1\n",
    "    for i in range(1, min_num + 1):\n",
    "        if a % i == 0 and b % i == 0:\n",
    "            gcd_result = i\n",
    "    return gcd_result\n",
    "\n",
    "\n",
    "num1 = 25\n",
    "num2 = 70\n",
    "result = gcd(num1, num2)\n",
    "\n",
    "print(f\"The GCD of {num1} and {num2} is {result}\")\n"
   ]
  },
  {
   "cell_type": "code",
   "execution_count": 32,
   "metadata": {},
   "outputs": [
    {
     "name": "stdout",
     "output_type": "stream",
     "text": [
      "It is a palindrome\n"
     ]
    }
   ],
   "source": [
    "#17\n",
    "str1 = 'malayalam'\n",
    "if str1 == str1[::-1]:\n",
    "    print(\"It is a palindrome\")\n",
    "else:\n",
    "    print(\"Not a palindrome\")"
   ]
  },
  {
   "cell_type": "code",
   "execution_count": 34,
   "metadata": {},
   "outputs": [
    {
     "name": "stdout",
     "output_type": "stream",
     "text": [
      "[1, 2, 3, 4, 5, 6, 7, 8]\n"
     ]
    }
   ],
   "source": [
    "#18\n",
    "list1 = [2, 4, 3, 5, 6, 4, 3, 2, 2, 6, 7, 8, 1, 6]\n",
    "list2 = list(set(list1))\n",
    "print(list2)"
   ]
  },
  {
   "cell_type": "code",
   "execution_count": 42,
   "metadata": {},
   "outputs": [
    {
     "name": "stdout",
     "output_type": "stream",
     "text": [
      "No of words : 5\n"
     ]
    }
   ],
   "source": [
    "#19\n",
    "import re\n",
    "str1 = ' Hii     hello how   are you?  '\n",
    "str2 = re.sub(r'\\s+', ' ', str1.strip())\n",
    "count = 0\n",
    "for i in str2:\n",
    "    if i == ' ':\n",
    "        count += 1\n",
    "print(\"No of words :\", count+1)"
   ]
  },
  {
   "cell_type": "code",
   "execution_count": 46,
   "metadata": {},
   "outputs": [
    {
     "name": "stdout",
     "output_type": "stream",
     "text": [
      "625\n"
     ]
    }
   ],
   "source": [
    "#20\n",
    "sum = 0\n",
    "for i in range(1, 50, 2):\n",
    "    sum += i\n",
    "print(sum)"
   ]
  },
  {
   "cell_type": "code",
   "execution_count": 49,
   "metadata": {},
   "outputs": [
    {
     "name": "stdout",
     "output_type": "stream",
     "text": [
      "It is a leap year\n"
     ]
    }
   ],
   "source": [
    "#21\n",
    "year = 2004\n",
    "if year%4 == 0:\n",
    "    print(\"It is a leap year\")\n",
    "else:\n",
    "    print(\"Not a leap year\")"
   ]
  },
  {
   "cell_type": "code",
   "execution_count": 55,
   "metadata": {},
   "outputs": [
    {
     "name": "stdout",
     "output_type": "stream",
     "text": [
      "3.605551275463989\n"
     ]
    }
   ],
   "source": [
    "#22\n",
    "num = 13\n",
    "x = num**(1/2)\n",
    "print(x)\n"
   ]
  },
  {
   "cell_type": "code",
   "execution_count": 2,
   "metadata": {},
   "outputs": [
    {
     "name": "stdout",
     "output_type": "stream",
     "text": [
      "The LCM of 34 and 18 is 306\n"
     ]
    }
   ],
   "source": [
    "#23\n",
    "\n",
    "def lcm(a, b):\n",
    "    max_num = max(a, b)\n",
    "    min_num = min(a, b)\n",
    "\n",
    "    for i in range(max_num, max_num * min_num + 1, max_num):\n",
    "        if i % min_num == 0:\n",
    "            return i\n",
    "    return a * b\n",
    "\n",
    "num1 = 34\n",
    "num2 = 18\n",
    "result = lcm(num1, num2)\n",
    "\n",
    "print(f\"The LCM of {num1} and {num2} is {result}\")\n"
   ]
  },
  {
   "cell_type": "markdown",
   "metadata": {},
   "source": [
    "If-else:\n",
    "1. Write a Python program to check if a number is positive, negative, or zero using an if-else\n",
    "statement.\n",
    "2. Create a Python program that checks if a given number is even or odd using an if-else statement.\n",
    "3. How can you use nested if-else statements in Python, and provide an example?\n",
    "4. Write a Python program to determine the largest of three numbers using if-else.\n",
    "5. Write a Python program that calculates the absolute value of a number using if-else.\n",
    "6. Create a Python program that checks if a given character is a vowel or consonant using if-else.\n",
    "7. Write a Python program to determine if a user is eligible to vote based on their age using if-else.\n",
    "8. Create a Python program that calculates the discount amount based on the purchase amount\n",
    "using if-else.\n",
    "9. Write a Python program to check if a number is within a specified range using if-else.\n",
    "10. Create a Python program that determines the grade of a student based on their score using\n",
    "if-else.\n",
    "11. Write a Python program to check if a string is empty or not using if-else.\n",
    "12. Create a Python program that identifies the type of a triangle (e.g., equilateral, isosceles, or scalene) based on input values using if-else"
   ]
  },
  {
   "cell_type": "code",
   "execution_count": 56,
   "metadata": {},
   "outputs": [
    {
     "name": "stdout",
     "output_type": "stream",
     "text": [
      "Positive\n"
     ]
    }
   ],
   "source": [
    "#1\n",
    "num = 10\n",
    "if num < 0:\n",
    "    print(\"Negative number\")\n",
    "elif num == 0:\n",
    "    print(\"ZEro\")\n",
    "else:\n",
    "    print(\"Positive\")"
   ]
  },
  {
   "cell_type": "code",
   "execution_count": 29,
   "metadata": {},
   "outputs": [
    {
     "name": "stdout",
     "output_type": "stream",
     "text": [
      "Even\n"
     ]
    }
   ],
   "source": [
    "#2\n",
    "n = 4\n",
    "if n//2 == n/2:\n",
    "    print(\"Even\")\n",
    "else:\n",
    "    print(\"Odd\")\n"
   ]
  },
  {
   "cell_type": "markdown",
   "metadata": {},
   "source": [
    "#3\n",
    "Nested if-else statements in Python involve placing if-else constructs within other if or else blocks. This allows for more complex conditional logic where certain conditions need to be checked within other conditions."
   ]
  },
  {
   "cell_type": "code",
   "execution_count": 12,
   "metadata": {},
   "outputs": [
    {
     "name": "stdout",
     "output_type": "stream",
     "text": [
      "Greatest number is 50\n"
     ]
    }
   ],
   "source": [
    "#Example\n",
    "a = 50\n",
    "b = 30\n",
    "c = 20\n",
    "if a>b:\n",
    "    if a>c:\n",
    "        print(\"Greatest number is\", a)\n",
    "    else:\n",
    "        print(\"Greatest number is\", c)\n",
    "else:\n",
    "    if b>c:\n",
    "        print(\"Greatest number is\", b)\n",
    "    else:\n",
    "        print(\"Greatest number is\", c)"
   ]
  },
  {
   "cell_type": "code",
   "execution_count": 34,
   "metadata": {},
   "outputs": [
    {
     "name": "stdout",
     "output_type": "stream",
     "text": [
      "Greatest number is 30\n"
     ]
    }
   ],
   "source": [
    "#4\n",
    "a = 10\n",
    "b = 30\n",
    "c = 20\n",
    "if a>b:\n",
    "    if a>c:\n",
    "        print(\"Greatest number is\", a)\n",
    "    else:\n",
    "        print(\"Greatest number is\", c)\n",
    "else:\n",
    "    if b>c:\n",
    "        print(\"Greatest number is\", b)\n",
    "    else:\n",
    "        print(\"Greatest number is\", c)"
   ]
  },
  {
   "cell_type": "code",
   "execution_count": 35,
   "metadata": {},
   "outputs": [
    {
     "name": "stdout",
     "output_type": "stream",
     "text": [
      "9\n"
     ]
    }
   ],
   "source": [
    "#5\n",
    "def absolute(n):\n",
    "    if n < 0:\n",
    "        print(-n)\n",
    "    else:\n",
    "        print(n)\n",
    "\n",
    "absolute(-9)"
   ]
  },
  {
   "cell_type": "code",
   "execution_count": 36,
   "metadata": {},
   "outputs": [
    {
     "name": "stdout",
     "output_type": "stream",
     "text": [
      "It is a consonant\n"
     ]
    }
   ],
   "source": [
    "#6\n",
    "vowels = ['a', 'e', 'i', 'o', 'u']\n",
    "character = 'p'\n",
    "if character in vowels:\n",
    "    print(\"It is a vowel\")\n",
    "else:\n",
    "    print(\"It is a consonant\")"
   ]
  },
  {
   "cell_type": "code",
   "execution_count": 37,
   "metadata": {},
   "outputs": [
    {
     "name": "stdout",
     "output_type": "stream",
     "text": [
      "Eligible for voting\n"
     ]
    }
   ],
   "source": [
    "#7\n",
    "age = 34\n",
    "if age >= 18:\n",
    "    print(\"Eligible for voting\")\n",
    "else:\n",
    "    print(\"Not eligible for voting\")"
   ]
  },
  {
   "cell_type": "code",
   "execution_count": 4,
   "metadata": {},
   "outputs": [
    {
     "name": "stdout",
     "output_type": "stream",
     "text": [
      "Discount amount: 35.00\n"
     ]
    }
   ],
   "source": [
    "#8\n",
    "purchase_amount = 350\n",
    "\n",
    "if purchase_amount > 100:\n",
    "    discount = purchase_amount * 0.1\n",
    "    print(f\"Discount amount: {discount:.2f}\")\n",
    "else:\n",
    "    print(\"No discount applied.\")"
   ]
  },
  {
   "cell_type": "code",
   "execution_count": 5,
   "metadata": {},
   "outputs": [
    {
     "name": "stdout",
     "output_type": "stream",
     "text": [
      "The number 15.7 is within the specified range.\n"
     ]
    }
   ],
   "source": [
    "#9\n",
    "number = 15.7\n",
    "lower_limit = 10\n",
    "upper_limit = 20\n",
    "\n",
    "if number >= lower_limit and number <= upper_limit:\n",
    "    print(f\"The number {number} is within the specified range.\")\n",
    "else:\n",
    "    print(f\"The number {number} is outside the specified range.\")"
   ]
  },
  {
   "cell_type": "code",
   "execution_count": 8,
   "metadata": {},
   "outputs": [
    {
     "name": "stdout",
     "output_type": "stream",
     "text": [
      "The student's grade is: A\n"
     ]
    }
   ],
   "source": [
    "#10\n",
    "score = 93\n",
    "\n",
    "if score >= 90:\n",
    "    grade = 'A'\n",
    "elif score >= 80:\n",
    "    grade = 'B'\n",
    "elif score >= 70:\n",
    "    grade = 'C'\n",
    "elif score >= 60:\n",
    "    grade = 'D'\n",
    "else:\n",
    "    grade = 'F'\n",
    "\n",
    "print(f\"The student's grade is: {grade}\")"
   ]
  },
  {
   "cell_type": "code",
   "execution_count": 9,
   "metadata": {},
   "outputs": [
    {
     "name": "stdout",
     "output_type": "stream",
     "text": [
      "The string is empty.\n"
     ]
    }
   ],
   "source": [
    "#11\n",
    "input_string = \"\"\n",
    "\n",
    "if input_string:\n",
    "    print(\"The string is not empty.\")\n",
    "else:\n",
    "    print(\"The string is empty.\")"
   ]
  },
  {
   "cell_type": "code",
   "execution_count": 10,
   "metadata": {},
   "outputs": [
    {
     "name": "stdout",
     "output_type": "stream",
     "text": [
      "The triangle is a scalene triangle.\n"
     ]
    }
   ],
   "source": [
    "#12\n",
    "side1 = 4\n",
    "side2 = 5\n",
    "side3 = 6\n",
    "\n",
    "if side1 == side2 == side3:\n",
    "    print(\"The triangle is an equilateral triangle.\")\n",
    "elif side1 == side2 or side1 == side3 or side2 == side3:\n",
    "    print(\"The triangle is an isosceles triangle.\")\n",
    "else:\n",
    "    print(\"The triangle is a scalene triangle.\")"
   ]
  },
  {
   "cell_type": "markdown",
   "metadata": {},
   "source": [
    "13) Write a Python program to determine the day of the week based on a user-provided number using if-else.\n",
    "14) Create a Python program that checks if a given year is a leap year using both if-else and a function.\n",
    "15) How do you use the \"assert\" statement in Python to add debugging checks within if-else blocks?\n",
    "16) Create a Python program that determines the eligibility of a person for a senior citizen discount based on age using if-else.\n",
    "17) Write a Python program to categorize a given character as uppercase, lowercase, or neither using if-else.\n",
    "18) Write a Python program to determine the roots of a quadratic equation using if-else.\n",
    "19) Create a Python program that checks if a given year is a century year or not using if-else.\n",
    "20) Write a Python program to determine if a given number is a perfect square using if-else.\n",
    "21) Explain the purpose of the \"continue\" and \"break\" statements within if-else loops.\n",
    "22) Create a Python program that calculates the BMI (Body Mass Index) of a person based on their weight and height using if-else.\n",
    "23) How can you use the \"filter()\" function with if-else statements to filter elements from a list?\n",
    "24) Write a Python program to determine if a given number is prime or not using if-else.\n"
   ]
  },
  {
   "cell_type": "code",
   "execution_count": 1,
   "metadata": {},
   "outputs": [
    {
     "name": "stdout",
     "output_type": "stream",
     "text": [
      "Friday\n"
     ]
    }
   ],
   "source": [
    "#13\n",
    "def day_of_week(num):\n",
    "    if num == 1:\n",
    "        return \"Monday\"\n",
    "    elif num == 2:\n",
    "        return \"Tuesday\"\n",
    "    elif num == 3:\n",
    "        return \"Wednesday\"\n",
    "    elif num == 4:\n",
    "        return \"Thursday\"\n",
    "    elif num == 5:\n",
    "        return \"Friday\"\n",
    "    elif num == 6:\n",
    "        return \"Saturday\"\n",
    "    elif num == 7:\n",
    "        return \"Sunday\"\n",
    "    else:\n",
    "        return \"Invalid number. Please enter a number between 1 and 7.\"\n",
    "\n",
    "# Example usage\n",
    "num = int(input(\"Enter a number (1-7): \"))\n",
    "print(day_of_week(num))"
   ]
  },
  {
   "cell_type": "code",
   "execution_count": 2,
   "metadata": {},
   "outputs": [
    {
     "name": "stdout",
     "output_type": "stream",
     "text": [
      "1234 is not a leap year.\n"
     ]
    }
   ],
   "source": [
    "#14\n",
    "def is_leap_year(year):\n",
    "    if year % 4 == 0:\n",
    "        if year % 100 == 0:\n",
    "            if year % 400 == 0:\n",
    "                return True\n",
    "            else:\n",
    "                return False\n",
    "        else:\n",
    "            return True\n",
    "    else:\n",
    "        return False\n",
    "\n",
    "# Example usage\n",
    "year = int(input(\"Enter a year: \"))\n",
    "if is_leap_year(year):\n",
    "    print(f\"{year} is a leap year.\")\n",
    "else:\n",
    "    print(f\"{year} is not a leap year.\")"
   ]
  },
  {
   "cell_type": "code",
   "execution_count": 3,
   "metadata": {},
   "outputs": [
    {
     "name": "stdout",
     "output_type": "stream",
     "text": [
      "The number is positive.\n"
     ]
    }
   ],
   "source": [
    "#15\n",
    "def check_positive(number):\n",
    "    assert number >= 0, \"The number should be non-negative\"\n",
    "    if number > 0:\n",
    "        return \"The number is positive.\"\n",
    "    elif number == 0:\n",
    "        return \"The number is zero.\"\n",
    "    else:\n",
    "        return \"The number is negative.\"\n",
    "\n",
    "# Example usage\n",
    "number = int(input(\"Enter a number: \"))\n",
    "print(check_positive(number))"
   ]
  },
  {
   "cell_type": "code",
   "execution_count": 4,
   "metadata": {},
   "outputs": [
    {
     "name": "stdout",
     "output_type": "stream",
     "text": [
      "Eligible for senior citizen discount.\n"
     ]
    }
   ],
   "source": [
    "#16\n",
    "def is_senior(age):\n",
    "    if age >= 65:\n",
    "        return \"Eligible for senior citizen discount.\"\n",
    "    else:\n",
    "        return \"Not eligible for senior citizen discount.\"\n",
    "\n",
    "# Example usage\n",
    "age = int(input(\"Enter age: \"))\n",
    "print(is_senior(age))"
   ]
  },
  {
   "cell_type": "code",
   "execution_count": 5,
   "metadata": {},
   "outputs": [
    {
     "name": "stdout",
     "output_type": "stream",
     "text": [
      "Lowercase letter\n"
     ]
    }
   ],
   "source": [
    "#17\n",
    "def categorize_char(char):\n",
    "    if char.isupper():\n",
    "        return \"Uppercase letter\"\n",
    "    elif char.islower():\n",
    "        return \"Lowercase letter\"\n",
    "    else:\n",
    "        return \"Neither uppercase nor lowercase letter\"\n",
    "\n",
    "# Example usage\n",
    "char = input(\"Enter a character: \")\n",
    "print(categorize_char(char))"
   ]
  },
  {
   "cell_type": "code",
   "execution_count": 6,
   "metadata": {},
   "outputs": [
    {
     "name": "stdout",
     "output_type": "stream",
     "text": [
      "No real roots\n"
     ]
    }
   ],
   "source": [
    "#18\n",
    "import math\n",
    "\n",
    "def find_roots(a, b, c):\n",
    "    discriminant = b**2 - 4*a*c\n",
    "    if discriminant > 0:\n",
    "        root1 = (-b + math.sqrt(discriminant)) / (2 * a)\n",
    "        root2 = (-b - math.sqrt(discriminant)) / (2 * a)\n",
    "        return f\"Two distinct roots: {root1}, {root2}\"\n",
    "    elif discriminant == 0:\n",
    "        root = -b / (2 * a)\n",
    "        return f\"One root: {root}\"\n",
    "    else:\n",
    "        return \"No real roots\"\n",
    "\n",
    "# Example usage\n",
    "a = float(input(\"Enter coefficient a: \"))\n",
    "b = float(input(\"Enter coefficient b: \"))\n",
    "c = float(input(\"Enter coefficient c: \"))\n",
    "print(find_roots(a, b, c))"
   ]
  },
  {
   "cell_type": "code",
   "execution_count": 7,
   "metadata": {},
   "outputs": [
    {
     "name": "stdout",
     "output_type": "stream",
     "text": [
      "2330 is not a century year.\n"
     ]
    }
   ],
   "source": [
    "#19\n",
    "def is_century_year(year):\n",
    "    if year % 100 == 0:\n",
    "        return f\"{year} is a century year.\"\n",
    "    else:\n",
    "        return f\"{year} is not a century year.\"\n",
    "\n",
    "# Example usage\n",
    "year = int(input(\"Enter a year: \"))\n",
    "print(is_century_year(year))"
   ]
  },
  {
   "cell_type": "code",
   "execution_count": 8,
   "metadata": {},
   "outputs": [
    {
     "name": "stdout",
     "output_type": "stream",
     "text": [
      "34 is not a perfect square.\n"
     ]
    }
   ],
   "source": [
    "#20\n",
    "import math\n",
    "\n",
    "def is_perfect_square(num):\n",
    "    if num < 0:\n",
    "        return f\"{num} is not a perfect square.\"\n",
    "    sqrt = int(math.sqrt(num))\n",
    "    if sqrt * sqrt == num:\n",
    "        return f\"{num} is a perfect square.\"\n",
    "    else:\n",
    "        return f\"{num} is not a perfect square.\"\n",
    "\n",
    "# Example usage\n",
    "num = int(input(\"Enter a number: \"))\n",
    "print(is_perfect_square(num))"
   ]
  },
  {
   "cell_type": "code",
   "execution_count": 9,
   "metadata": {},
   "outputs": [
    {
     "name": "stdout",
     "output_type": "stream",
     "text": [
      "1\n",
      "2\n",
      "4\n",
      "5\n",
      "1\n",
      "2\n"
     ]
    }
   ],
   "source": [
    "#21\n",
    "# Using continue\n",
    "for i in range(1, 6):\n",
    "    if i == 3:\n",
    "        continue\n",
    "    print(i)\n",
    "\n",
    "# Using break\n",
    "for i in range(1, 6):\n",
    "    if i == 3:\n",
    "        break\n",
    "    print(i)"
   ]
  },
  {
   "cell_type": "code",
   "execution_count": 10,
   "metadata": {},
   "outputs": [
    {
     "name": "stdout",
     "output_type": "stream",
     "text": [
      "Underweight (BMI: 11.25)\n"
     ]
    }
   ],
   "source": [
    "#22\n",
    "def calculate_bmi(weight, height):\n",
    "    bmi = weight / (height ** 2)\n",
    "    if bmi < 18.5:\n",
    "        return f\"Underweight (BMI: {bmi:.2f})\"\n",
    "    elif 18.5 <= bmi < 24.9:\n",
    "        return f\"Normal weight (BMI: {bmi:.2f})\"\n",
    "    elif 25 <= bmi < 29.9:\n",
    "        return f\"Overweight (BMI: {bmi:.2f})\"\n",
    "    else:\n",
    "        return f\"Obesity (BMI: {bmi:.2f})\"\n",
    "\n",
    "# Example usage\n",
    "weight = float(input(\"Enter weight in kg: \"))\n",
    "height = float(input(\"Enter height in meters: \"))\n",
    "print(calculate_bmi(weight, height))"
   ]
  },
  {
   "cell_type": "code",
   "execution_count": 11,
   "metadata": {},
   "outputs": [
    {
     "name": "stdout",
     "output_type": "stream",
     "text": [
      "Even numbers: [2, 4, 6, 8, 10]\n"
     ]
    }
   ],
   "source": [
    "#23\n",
    "# Example usage with filter\n",
    "def is_even(num):\n",
    "    return num % 2 == 0\n",
    "\n",
    "numbers = [1, 2, 3, 4, 5, 6, 7, 8, 9, 10]\n",
    "even_numbers = list(filter(is_even, numbers))\n",
    "print(\"Even numbers:\", even_numbers)"
   ]
  },
  {
   "cell_type": "code",
   "execution_count": 12,
   "metadata": {},
   "outputs": [
    {
     "name": "stdout",
     "output_type": "stream",
     "text": [
      "3 is a prime number.\n"
     ]
    }
   ],
   "source": [
    "#24\n",
    "def is_prime(num):\n",
    "    if num <= 1:\n",
    "        return f\"{num} is not a prime number.\"\n",
    "    for i in range(2, int(num**0.5) + 1):\n",
    "        if num % i == 0:\n",
    "            return f\"{num} is not a prime number.\"\n",
    "    return f\"{num} is a prime number.\"\n",
    "\n",
    "# Example usage\n",
    "num = int(input(\"Enter a number: \"))\n",
    "print(is_prime(num))"
   ]
  },
  {
   "cell_type": "markdown",
   "metadata": {},
   "source": [
    "Map :-\n",
    "1. Explain the purpose of the `map()` function in Python and provide an example of how it can be\n",
    "used to apply a function to each element of an iterable.\n",
    "2. Write a Python program that uses the `map()` function to square each element of a list of\n",
    "numbers.\n",
    "3. How does the `map()` function differ from a list comprehension in Python, and when would you\n",
    "choose one over the other?\n",
    "4. Create a Python program that uses the `map()` function to convert a list of names to uppercase.\n",
    "5. Write a Python program that uses the `map()` function to calculate the length of each word in a\n",
    "list of strings.\n",
    "6. How can you use the `map()` function to apply a custom function to elements of multiple lists\n",
    "simultaneously in Python?\n",
    "7. Create a Python program that uses `map()` to convert a list of temperatures from Celsius to\n",
    "Fahrenheit.\n",
    "8. Write a Python program that uses the `map()` function to round each element of a list of\n",
    "floating-point numbers to the nearest integer."
   ]
  },
  {
   "cell_type": "markdown",
   "metadata": {},
   "source": [
    "#1\n",
    "The map() function in Python is used to apply a given function to each item in an iterable (like a list, tuple, etc.) and returns an iterator that yields the results."
   ]
  },
  {
   "cell_type": "code",
   "execution_count": 64,
   "metadata": {},
   "outputs": [
    {
     "name": "stdout",
     "output_type": "stream",
     "text": [
      "[4, 9, 16, 25, 36, 49]\n"
     ]
    }
   ],
   "source": [
    "#2\n",
    "def sqr(x):\n",
    "    return x**2\n",
    "list1 = [2, 3, 4, 5, 6, 7]\n",
    "list2 = list(map(sqr, list1))\n",
    "print(list2)"
   ]
  },
  {
   "cell_type": "markdown",
   "metadata": {},
   "source": [
    "#3\n",
    "map():\n",
    "Takes a function and an iterable as arguments.\n",
    "Returns an iterator that generates values as needed.\n",
    "Generally used with functions that need to be applied element-wise to one or more iterables.\n",
    "\n",
    "List Comprehension:\n",
    "Creates a new list by evaluating an expression for each item in an iterable.\n",
    "Offers a more concise and readable way to create a list based on existing iterables.\n",
    "Often used when you want to create a new list by applying an operation to each element or filter elements based on certain conditions."
   ]
  },
  {
   "cell_type": "code",
   "execution_count": 65,
   "metadata": {},
   "outputs": [
    {
     "name": "stdout",
     "output_type": "stream",
     "text": [
      "['KUNAL', 'RAMU', 'RAGHU', 'RAJU']\n"
     ]
    }
   ],
   "source": [
    "#4\n",
    "def upper_case(x):\n",
    "    return x.upper()\n",
    "list1 = ['kunal', 'ramu', 'raghu', 'Raju']\n",
    "list2 = list(map(upper_case, list1))\n",
    "print(list2)"
   ]
  },
  {
   "cell_type": "code",
   "execution_count": 71,
   "metadata": {},
   "outputs": [
    {
     "name": "stdout",
     "output_type": "stream",
     "text": [
      "Lengths of the words are :  [3, 5, 3, 2, 4, 7]\n"
     ]
    }
   ],
   "source": [
    "#5\n",
    "list1 = ['hii', 'hello', 'how', 'is', 'your', 'health?']\n",
    "list2 = list(map(len, list1))\n",
    "print(\"Lengths of the words are : \", list2)"
   ]
  },
  {
   "cell_type": "markdown",
   "metadata": {},
   "source": [
    "#6\n",
    "You can use the map() function in combination with functions that accept multiple arguments and multiple iterables (lists, tuples, etc.) to apply a custom function to elements of multiple lists simultaneously."
   ]
  },
  {
   "cell_type": "code",
   "execution_count": 3,
   "metadata": {},
   "outputs": [
    {
     "name": "stdout",
     "output_type": "stream",
     "text": [
      "[6, 8, 10, 12]\n"
     ]
    }
   ],
   "source": [
    "def add_elements(x, y):\n",
    "    return x + y\n",
    "\n",
    "list1 = [1, 2, 3, 4]\n",
    "list2 = [5, 6, 7, 8]\n",
    "result = list(map(add_elements, list1, list2))\n",
    "print(result)"
   ]
  },
  {
   "cell_type": "code",
   "execution_count": 68,
   "metadata": {},
   "outputs": [
    {
     "name": "stdout",
     "output_type": "stream",
     "text": [
      "[32.0, 50.0, 68.0, 86.0, 104.0]\n"
     ]
    }
   ],
   "source": [
    "#7\n",
    "def celsius_to_fahrenheit(celsius):\n",
    "    return (celsius * 9/5) + 32\n",
    "\n",
    "celsius_temperatures = [0, 10, 20, 30, 40]\n",
    "fahrenheit_temperatures = list(map(celsius_to_fahrenheit, celsius_temperatures))\n",
    "print(fahrenheit_temperatures)"
   ]
  },
  {
   "cell_type": "code",
   "execution_count": 69,
   "metadata": {},
   "outputs": [
    {
     "name": "stdout",
     "output_type": "stream",
     "text": [
      "[3, 3, 2, 8, 4]\n"
     ]
    }
   ],
   "source": [
    "#8\n",
    "float_numbers = [3.14, 2.718, 1.5, 7.89, 4.25]\n",
    "rounded_integers = list(map(round, float_numbers))\n",
    "print(rounded_integers)"
   ]
  },
  {
   "cell_type": "markdown",
   "metadata": {},
   "source": [
    "Reduce :\n",
    "1. What is the `reduce()` function in Python, and what module should you import to use it? Provide\n",
    "an example of its basic usage.\n",
    "2. Write a Python program that uses the `reduce()` function to find the product of all elements in a\n",
    "list.\n",
    "3. Create a Python program that uses `reduce()` to find the maximum element in a list of numbers.\n",
    "4. How can you use the `reduce()` function to concatenate a list of strings into a single string?\n",
    "5. Write a Python program that calculates the factorial of a number using the `reduce()` function.\n",
    "6. Create a Python program that uses `reduce()` to find the GCD (Greatest Common Divisor) of a list of numbers.\n",
    "7. Write a Python program that uses the `reduce()` function to find the sum of the digits of a given\n",
    "number."
   ]
  },
  {
   "cell_type": "markdown",
   "metadata": {},
   "source": [
    "#1\n",
    "The reduce() function is part of the functools module in Python. It's used to apply a specified function to the elements of an iterable to reduce them to a single cumulative value.\n",
    "\n",
    "To use reduce(), you need to import it from the functools module."
   ]
  },
  {
   "cell_type": "code",
   "execution_count": 74,
   "metadata": {},
   "outputs": [
    {
     "name": "stdout",
     "output_type": "stream",
     "text": [
      "120\n"
     ]
    }
   ],
   "source": [
    "#2\n",
    "from functools import reduce\n",
    "\n",
    "numbers = [1, 2, 3, 4, 5]\n",
    "product = reduce(lambda x, y: x * y, numbers)\n",
    "print(product)"
   ]
  },
  {
   "cell_type": "code",
   "execution_count": 75,
   "metadata": {},
   "outputs": [
    {
     "name": "stdout",
     "output_type": "stream",
     "text": [
      "9\n"
     ]
    }
   ],
   "source": [
    "#3\n",
    "list1 = [4, 3, 9, 6, 8, 3, 1]\n",
    "maxinum_number = reduce(max, list1)\n",
    "print(maxinum_number)"
   ]
  },
  {
   "cell_type": "markdown",
   "metadata": {},
   "source": [
    "#4\n",
    "You can use the reduce() function in combination with the operator module or a lambda function to concatenate a list of strings into a single string."
   ]
  },
  {
   "cell_type": "code",
   "execution_count": 4,
   "metadata": {},
   "outputs": [
    {
     "name": "stdout",
     "output_type": "stream",
     "text": [
      "Hello, world!\n"
     ]
    }
   ],
   "source": [
    "from functools import reduce\n",
    "\n",
    "strings = [\"Hello\", \", \", \"world\", \"!\"]\n",
    "concatenated_string = reduce(lambda x, y: x + y, strings)\n",
    "print(concatenated_string)"
   ]
  },
  {
   "cell_type": "code",
   "execution_count": 79,
   "metadata": {},
   "outputs": [
    {
     "name": "stdout",
     "output_type": "stream",
     "text": [
      "120\n"
     ]
    }
   ],
   "source": [
    "#5\n",
    "num = 5\n",
    "factorial = reduce(lambda x, y : x*y, range(1, num+1))\n",
    "print(factorial)"
   ]
  },
  {
   "cell_type": "code",
   "execution_count": 5,
   "metadata": {},
   "outputs": [
    {
     "name": "stdout",
     "output_type": "stream",
     "text": [
      "The GCD of the numbers [24, 36, 48, 60, 72] is: 12\n"
     ]
    }
   ],
   "source": [
    "#6\n",
    "from functools import reduce\n",
    "from math import gcd\n",
    "\n",
    "numbers = [24, 36, 48, 60, 72]\n",
    "gcd_result = reduce(gcd, numbers)\n",
    "print(f\"The GCD of the numbers {numbers} is: {gcd_result}\")"
   ]
  },
  {
   "cell_type": "code",
   "execution_count": 81,
   "metadata": {},
   "outputs": [
    {
     "name": "stdout",
     "output_type": "stream",
     "text": [
      "The sum of digits in 12345 is: 15\n"
     ]
    }
   ],
   "source": [
    "#7\n",
    "from functools import reduce\n",
    "\n",
    "def sum_of_digits(number):\n",
    "    return reduce(lambda x, y: int(x) + int(y), str(number), 0)\n",
    "\n",
    "input_number = 12345\n",
    "result = sum_of_digits(input_number)\n",
    "\n",
    "print(f\"The sum of digits in {input_number} is: {result}\")"
   ]
  },
  {
   "cell_type": "markdown",
   "metadata": {},
   "source": [
    "Filter:\n",
    "1. Explain the purpose of the `filter()` function in Python and provide an example of how it can be used to filter elements from an iterable.\n",
    "2. Write a Python program that uses the `filter()` function to select even numbers from a list of\n",
    "integers.\n",
    "3. Create a Python program that uses the `filter()` function to select names that start with a specific letter from a list of strings.\n",
    "4. Write a Python program that uses the `filter()` function to select prime numbers from a list of\n",
    "integers.\n",
    "5. How can you use the `filter()` function to remove None values from a list in Python?\n",
    "6. Create a Python program that uses `filter()` to select words longer than a certain length from a list of strings.\n",
    "7. Write a Python program that uses the `filter()` function to select elements greater than a\n",
    "specified threshold from a list of values."
   ]
  },
  {
   "cell_type": "markdown",
   "metadata": {},
   "source": [
    "#1\n",
    "The filter() function in Python is used to filter elements from an iterable based on a specified function (or condition) and returns an iterator containing the elements that satisfy the condition."
   ]
  },
  {
   "cell_type": "code",
   "execution_count": 6,
   "metadata": {},
   "outputs": [
    {
     "name": "stdout",
     "output_type": "stream",
     "text": [
      "[2, 4, 6, 8, 10]\n"
     ]
    }
   ],
   "source": [
    "def is_even(n):\n",
    "    return n % 2 == 0\n",
    "\n",
    "numbers = [1, 2, 3, 4, 5, 6, 7, 8, 9, 10]\n",
    "even_numbers = filter(is_even, numbers)\n",
    "even_numbers_list = list(even_numbers)\n",
    "print(even_numbers_list)"
   ]
  },
  {
   "cell_type": "code",
   "execution_count": 83,
   "metadata": {},
   "outputs": [
    {
     "name": "stdout",
     "output_type": "stream",
     "text": [
      "[2, 4, 6, 8]\n"
     ]
    }
   ],
   "source": [
    "#2\n",
    "list1 = [1, 2, 3, 4, 5, 6, 7, 8, 9]\n",
    "list2 = list(filter(lambda x: x%2 == 0, list1))\n",
    "print(list2)"
   ]
  },
  {
   "cell_type": "code",
   "execution_count": 84,
   "metadata": {},
   "outputs": [
    {
     "name": "stdout",
     "output_type": "stream",
     "text": [
      "List of words that starts with A are : ['Agarwal', 'Andaman', 'Ahmedabad']\n"
     ]
    }
   ],
   "source": [
    "#3\n",
    "start_letter = 'A'\n",
    "list_of_names = ['Agarwal', 'Andaman', 'Bihar', 'Telangana', 'Delhi', 'Ahmedabad']\n",
    "list1 = list(filter(lambda x: x[0] == start_letter, list_of_names))\n",
    "print(f\"List of words that starts with {start_letter} are :\", list1)"
   ]
  },
  {
   "cell_type": "code",
   "execution_count": 89,
   "metadata": {},
   "outputs": [
    {
     "name": "stdout",
     "output_type": "stream",
     "text": [
      "[2, 3, 5, 7, 11, 13]\n"
     ]
    }
   ],
   "source": [
    "#4\n",
    "def is_prime(n):\n",
    "    if n <= 1:\n",
    "        return False\n",
    "    for i in range(2, int(n ** 0.5) + 1):\n",
    "        if n % i == 0:\n",
    "            return False\n",
    "    return True\n",
    "\n",
    "numbers = [2, 3, 4, 5, 6, 7, 8, 9, 10, 11, 12, 13, 14, 15]\n",
    "prime_numbers = list(filter(is_prime, numbers))\n",
    "\n",
    "print(prime_numbers)\n"
   ]
  },
  {
   "cell_type": "markdown",
   "metadata": {},
   "source": [
    "#5\n",
    "You can use the filter() function to remove None values from a list by passing a function that filters out these values"
   ]
  },
  {
   "cell_type": "code",
   "execution_count": 7,
   "metadata": {},
   "outputs": [
    {
     "name": "stdout",
     "output_type": "stream",
     "text": [
      "[1, 3, 5, 7]\n"
     ]
    }
   ],
   "source": [
    "values = [1, None, 3, None, 5, None, 7]\n",
    "\n",
    "filtered_values = filter(lambda x: x is not None, values)\n",
    "filtered_values_list = list(filtered_values)\n",
    "print(filtered_values_list)"
   ]
  },
  {
   "cell_type": "code",
   "execution_count": 88,
   "metadata": {},
   "outputs": [
    {
     "name": "stdout",
     "output_type": "stream",
     "text": [
      "The longest word is :\n",
      "Telangana\n",
      "Ahmedabad\n"
     ]
    }
   ],
   "source": [
    "#6\n",
    "list_of_names = ['Agarwal', 'Andaman', 'Bihar', 'Telangana', 'Delhi', 'Ahmedabad']\n",
    "maximum = list_of_names[0]\n",
    "list1 = list(filter(lambda x : len(x) > len(maximum), list_of_names))\n",
    "print(\"The longest word is :\")\n",
    "for i in list1:\n",
    "    print(i)"
   ]
  },
  {
   "cell_type": "code",
   "execution_count": 90,
   "metadata": {},
   "outputs": [
    {
     "name": "stdout",
     "output_type": "stream",
     "text": [
      "[12, 18, 20, 25]\n"
     ]
    }
   ],
   "source": [
    "#7\n",
    "def greater_than_threshold(threshold, value):\n",
    "    return value > threshold\n",
    "\n",
    "values = [12, 5, 18, 20, 7, 3, 25, 10]\n",
    "threshold_value = 10\n",
    "filtered_values = list(filter(lambda x: greater_than_threshold(threshold_value, x), values))\n",
    "print(filtered_values)"
   ]
  },
  {
   "cell_type": "markdown",
   "metadata": {},
   "source": [
    "Recursion:\n",
    "1. Explain the concept of recursion in Python. How does it differ from iteration?\n",
    "2. Write a Python program to calculate the factorial of a number using recursion.\n",
    "3. Create a recursive Python function to find the nth Fibonacci number.\n",
    "4. Write a recursive Python function to calculate the sum of all elements in a list.\n",
    "5. How can you prevent a recursive function from running indefinitely, causing a stack overflow\n",
    "error?\n",
    "6. Create a recursive Python function to find the greatest common divisor (GCD) of two numbers\n",
    "using the Euclidean algorithm.\n",
    "7. Write a recursive Python function to reverse a string.\n",
    "8. Create a recursive Python function to calculate the power of a number (x^n).\n",
    "9. Write a recursive Python function to find all permutations of a given string.\n",
    "10. Write a recursive Python function to check if a string is a palindrome.\n",
    "11. Create a recursive Python function to generate all possible combinations of a list of elements."
   ]
  },
  {
   "cell_type": "markdown",
   "metadata": {},
   "source": [
    "#1\n",
    "Recursion:\n",
    "Recursion is a technique where a function calls itself in order to solve a problem.\n",
    "In a recursive function, the problem is divided into subproblems that are smaller instances of the same problem.\n",
    "Recursive functions have a base case that specifies when the recursion should stop to prevent infinite looping.\n",
    "It uses the call stack to manage function calls, and excessive recursion might lead to a stack overflow.\n",
    "\n",
    "Iteration:\n",
    "Iteration involves repeating a block of code (looping) until a certain condition is met.\n",
    "It uses constructs like for loops or while loops to repeatedly execute a set of statements.\n",
    "It explicitly controls the flow of execution using loop conditions.\n",
    "Iteration typically uses less memory than recursion as it doesn't rely on the call stack."
   ]
  },
  {
   "cell_type": "code",
   "execution_count": 8,
   "metadata": {},
   "outputs": [
    {
     "name": "stdout",
     "output_type": "stream",
     "text": [
      "120\n"
     ]
    }
   ],
   "source": [
    "#2\n",
    "def fact(n):\n",
    "    if n <= 1:\n",
    "        return 1\n",
    "    else:\n",
    "        return n*fact(n-1)\n",
    "    \n",
    "n = 5\n",
    "factorial = fact(n)\n",
    "print(factorial)"
   ]
  },
  {
   "cell_type": "code",
   "execution_count": 22,
   "metadata": {},
   "outputs": [
    {
     "name": "stdout",
     "output_type": "stream",
     "text": [
      "34\n"
     ]
    }
   ],
   "source": [
    "#3\n",
    "a = 0\n",
    "b = 1\n",
    "c = a+b\n",
    "def fib(n):\n",
    "    global a, b, c\n",
    "    if n == 1:\n",
    "        return 0\n",
    "    elif n == 2:\n",
    "        return c\n",
    "    elif n >= 3:\n",
    "        c = a+b\n",
    "        a = b\n",
    "        b = c\n",
    "        return fib(n-1)\n",
    "n = 10\n",
    "fibonacci = fib(n)\n",
    "print(fibonacci)"
   ]
  },
  {
   "cell_type": "code",
   "execution_count": 25,
   "metadata": {},
   "outputs": [
    {
     "name": "stdout",
     "output_type": "stream",
     "text": [
      "118\n"
     ]
    }
   ],
   "source": [
    "#4\n",
    "def sum_of_elements(i):\n",
    "    if i < 0 :\n",
    "        return 0\n",
    "    else:\n",
    "        return arr[i] + sum_of_elements(i-1)\n",
    "\n",
    "arr = [12, 32, 33, 28, 13]\n",
    "length = len(arr)-1\n",
    "add = sum_of_elements(length)\n",
    "print(add)"
   ]
  },
  {
   "cell_type": "markdown",
   "metadata": {},
   "source": [
    "#5\n",
    "Preventing a recursive function from running indefinitely and causing a stack overflow error involves ensuring that the recursion has a well-defined termination condition, often referred to as a base case."
   ]
  },
  {
   "cell_type": "code",
   "execution_count": 8,
   "metadata": {},
   "outputs": [
    {
     "name": "stdout",
     "output_type": "stream",
     "text": [
      "The GCD of 48 and 18 is 6\n"
     ]
    }
   ],
   "source": [
    "#6\n",
    "def gcd(a, b):\n",
    "    if b == 0:\n",
    "        return a\n",
    "    else:\n",
    "        return gcd(b, a % b)\n",
    "\n",
    "num1 = 48\n",
    "num2 = 18\n",
    "result = gcd(num1, num2)\n",
    "print(f\"The GCD of {num1} and {num2} is {result}\")"
   ]
  },
  {
   "cell_type": "code",
   "execution_count": 27,
   "metadata": {},
   "outputs": [
    {
     "name": "stdout",
     "output_type": "stream",
     "text": [
      "ecneicsataD\n"
     ]
    }
   ],
   "source": [
    "#7\n",
    "def reverse_string(i):\n",
    "    if i < 0 :\n",
    "        return ''\n",
    "    else:\n",
    "        return str1[i] + reverse_string(i-1)\n",
    "    \n",
    "str1 = \"Datascience\"\n",
    "length = len(str1)-1\n",
    "reverse = reverse_string(length)\n",
    "print(reverse)"
   ]
  },
  {
   "cell_type": "code",
   "execution_count": 21,
   "metadata": {},
   "outputs": [
    {
     "name": "stdout",
     "output_type": "stream",
     "text": [
      "8\n"
     ]
    }
   ],
   "source": [
    "#8\n",
    "def power(x, n):\n",
    "    if n == 0:\n",
    "        return 1\n",
    "    elif n < 0:\n",
    "        return 1 / power(x, -n)\n",
    "    else:\n",
    "        return x * power(x, n - 1)\n",
    "\n",
    "x = power(2, 3)\n",
    "print(x)"
   ]
  },
  {
   "cell_type": "code",
   "execution_count": 25,
   "metadata": {},
   "outputs": [
    {
     "name": "stdout",
     "output_type": "stream",
     "text": [
      "['abc', 'acb', 'bac', 'bca', 'cab', 'cba']\n"
     ]
    }
   ],
   "source": [
    "#9\n",
    "def permutations(s):\n",
    "    if len(s) <= 1:\n",
    "        return [s]\n",
    "    \n",
    "    perms = []\n",
    "    for i, char in enumerate(s):\n",
    "        for perm in permutations(s[:i] + s[i + 1:]):\n",
    "            perms.append(char + perm)\n",
    "    return perms\n",
    "\n",
    "x = permutations('abc')\n",
    "print(x)"
   ]
  },
  {
   "cell_type": "code",
   "execution_count": 27,
   "metadata": {},
   "outputs": [
    {
     "name": "stdout",
     "output_type": "stream",
     "text": [
      "True\n"
     ]
    }
   ],
   "source": [
    "#10\n",
    "def is_palindrome(s):\n",
    "    if len(s) <= 1:\n",
    "        return True\n",
    "    if s[0] != s[-1]:\n",
    "        return False\n",
    "    return is_palindrome(s[1:-1])\n",
    "\n",
    "x = is_palindrome('malayalam')\n",
    "print(x)"
   ]
  },
  {
   "cell_type": "code",
   "execution_count": 28,
   "metadata": {},
   "outputs": [
    {
     "name": "stdout",
     "output_type": "stream",
     "text": [
      "[[1, 4, 2], [1, 2, 4], [4, 1, 2], [4, 2, 1], [2, 1, 4], [2, 4, 1]]\n"
     ]
    }
   ],
   "source": [
    "#11\n",
    "def combinations(elements):\n",
    "    if len(elements) <= 1:\n",
    "        return [elements]\n",
    "    \n",
    "    all_combs = []\n",
    "    for i, elem in enumerate(elements):\n",
    "        for comb in combinations(elements[:i] + elements[i + 1:]):\n",
    "            all_combs.append([elem] + comb)\n",
    "    return all_combs\n",
    "\n",
    "x = combinations([1, 4, 2])\n",
    "print(x)"
   ]
  },
  {
   "cell_type": "markdown",
   "metadata": {},
   "source": [
    "Basics of functions :\n",
    "1. What is a function in Python, and why is it used?\n",
    "2. How do you define a function in Python? Provide an example.\n",
    "3. Explain the difference between a function definition and a function call.\n",
    "4. Write a Python program that defines a function to calculate the sum of two numbers and then\n",
    "calls the function.\n",
    "5. What is a function signature, and what information does it typically include?\n",
    "6. Create a Python function that takes two arguments and returns their product."
   ]
  },
  {
   "cell_type": "markdown",
   "metadata": {},
   "source": [
    "#1\n",
    "In Python, a function is a block of organized, reusable code designed to perform a specific task. It's a named sequence of statements that can accept inputs, perform actions based on these inputs, and optionally return a result."
   ]
  },
  {
   "cell_type": "markdown",
   "metadata": {},
   "source": [
    "#2\n",
    "In Python, a function is a block of organized, reusable code designed to perform a specific task. It's a named sequence of statements that can accept inputs, perform actions based on these inputs, and optionally return a result."
   ]
  },
  {
   "cell_type": "code",
   "execution_count": 9,
   "metadata": {},
   "outputs": [
    {
     "name": "stdout",
     "output_type": "stream",
     "text": [
      "9\n"
     ]
    }
   ],
   "source": [
    "def sum_func(a, b):\n",
    "    print(a+b)\n",
    "\n",
    "sum_func(4, 5)"
   ]
  },
  {
   "cell_type": "markdown",
   "metadata": {},
   "source": [
    "#3\n",
    "Function Definition:\n",
    "Function Definition refers to the process of creating a function and specifying its behavior.\n",
    "It involves defining the structure and logic of a function without executing it.\n",
    "When defining a function, you are essentially creating a blueprint or a set of instructions that specify what the function does when it's called.\n",
    "\n",
    "Function Call:\n",
    "Function Call refers to the execution of a function that has been defined.\n",
    "It involves invoking the function and actually running the code within the function body.\n",
    "During a function call, the program executes the statements defined within the function definition with the provided arguments (if any)."
   ]
  },
  {
   "cell_type": "code",
   "execution_count": 2,
   "metadata": {},
   "outputs": [
    {
     "name": "stdout",
     "output_type": "stream",
     "text": [
      "9\n"
     ]
    }
   ],
   "source": [
    "#4\n",
    "def sum_func(a, b):\n",
    "    print(a+b)\n",
    "\n",
    "sum_func(4, 5)"
   ]
  },
  {
   "cell_type": "markdown",
   "metadata": {},
   "source": [
    "#5\n",
    "A function signature refers to the declaration or specification of a function's interface. It provides essential information about the function's name, parameters, return type (in languages that specify types), and sometimes additional details like exceptions it might raise or other constraints."
   ]
  },
  {
   "cell_type": "code",
   "execution_count": 3,
   "metadata": {},
   "outputs": [
    {
     "name": "stdout",
     "output_type": "stream",
     "text": [
      "18\n"
     ]
    }
   ],
   "source": [
    "#6\n",
    "def product_func(a, b):\n",
    "    return a*b\n",
    "\n",
    "print(product_func(3, 6))"
   ]
  },
  {
   "cell_type": "markdown",
   "metadata": {},
   "source": [
    "Function Parameters and Arguments:\n",
    "1. Explain the concepts of formal parameters and actual arguments in Python functions.\n",
    "2. Write a Python program that defines a function with default argument values.\n",
    "3. How do you use keyword arguments in Python function calls? Provide an example.\n",
    "4. Create a Python function that accepts a variable number of arguments and calculates their sum.\n",
    "5. What is the purpose of the `*args` and `**kwargs` syntax in function parameter lists?"
   ]
  },
  {
   "cell_type": "markdown",
   "metadata": {},
   "source": [
    "#1\n",
    "Formal Parameters:\n",
    "Formal Parameters are the names listed within the parentheses of a function definition.\n",
    "They act as placeholders for the values that a function expects to receive when it is called.\n",
    "These names are like variables that represent the values passed to the function.\n",
    "\n",
    "Actual Arguments:\n",
    "Actual Arguments (also known as arguments or function arguments) are the real values passed to a function when it is called.\n",
    "They correspond to the formal parameters in the function definition and supply the actual data that the function will work with.\n",
    "Actual arguments can be constants, variables, expressions, or even other function calls that produce values."
   ]
  },
  {
   "cell_type": "code",
   "execution_count": 4,
   "metadata": {},
   "outputs": [
    {
     "name": "stdout",
     "output_type": "stream",
     "text": [
      "21\n"
     ]
    }
   ],
   "source": [
    "#2\n",
    "def product(a = 3, b = 7):\n",
    "    return a*b\n",
    "\n",
    "print(product())"
   ]
  },
  {
   "cell_type": "markdown",
   "metadata": {},
   "source": [
    "#3\n",
    "In Python, keyword arguments allow you to pass arguments to a function by explicitly specifying the parameter names along with their corresponding values.\n",
    "\n",
    "Using Keyword Arguments:\n",
    "To use keyword arguments, simply provide the parameter name followed by the value when calling the function."
   ]
  },
  {
   "cell_type": "code",
   "execution_count": 10,
   "metadata": {},
   "outputs": [
    {
     "name": "stdout",
     "output_type": "stream",
     "text": [
      "Alice is 30 years old and lives in New York.\n"
     ]
    }
   ],
   "source": [
    "def describe_person(name, age, city):\n",
    "    print(f\"{name} is {age} years old and lives in {city}.\")\n",
    "\n",
    "describe_person(name=\"Alice\", age=30, city=\"New York\")"
   ]
  },
  {
   "cell_type": "code",
   "execution_count": 11,
   "metadata": {},
   "outputs": [
    {
     "name": "stdout",
     "output_type": "stream",
     "text": [
      "15\n"
     ]
    }
   ],
   "source": [
    "#4\n",
    "def calculate_sum(*args):\n",
    "    return sum(args)\n",
    "\n",
    "result = calculate_sum(1, 2, 3, 4, 5)\n",
    "print(result)"
   ]
  },
  {
   "cell_type": "markdown",
   "metadata": {},
   "source": [
    "#5\n",
    "*args (Arbitrary Positional Arguments):\n",
    "The *args syntax in a function parameter list allows a function to accept an arbitrary number of positional arguments.\n",
    "It collects these arguments into a tuple within the function.\n",
    "This parameter name (args is conventional but not mandatory) is prefixed with a single asterisk (*), which indicates that multiple positional arguments can be passed.\n",
    "\n",
    "**kwargs (Arbitrary Keyword Arguments):\n",
    "The **kwargs syntax allows a function to accept an arbitrary number of keyword arguments.\n",
    "It collects these arguments into a dictionary within the function.\n",
    "This parameter name (kwargs is conventional but not mandatory) is prefixed with a double asterisk (**), indicating that multiple keyword arguments can be passed."
   ]
  },
  {
   "cell_type": "markdown",
   "metadata": {},
   "source": [
    "Return Values and Scoping:\n",
    "1. Describe the role of the `return` statement in Python functions and provide examples.\n",
    "2. Explain the concept of variable scope in Python, including local and global variables.\n",
    "3. Write a Python program that demonstrates the use of global variables within functions.\n",
    "4. Create a Python function that calculates the factorial of a number and returns it.\n",
    "5. How can you access variables defined outside a function from within the function?"
   ]
  },
  {
   "cell_type": "markdown",
   "metadata": {},
   "source": [
    "#1\n",
    "In Python, the return statement is used to exit a function and optionally return a value or multiple values (separated by commas) back to the caller."
   ]
  },
  {
   "cell_type": "code",
   "execution_count": 12,
   "metadata": {},
   "outputs": [
    {
     "name": "stdout",
     "output_type": "stream",
     "text": [
      "8\n"
     ]
    }
   ],
   "source": [
    "def add_numbers(a, b):\n",
    "    return a + b\n",
    "\n",
    "result = add_numbers(3, 5)\n",
    "print(result)"
   ]
  },
  {
   "cell_type": "markdown",
   "metadata": {},
   "source": [
    "#2\n",
    "Variable scope in Python defines the region or part of the program where a variable can be accessed or referenced. It determines the visibility and accessibility of variables within different parts of the code.\n",
    "\n",
    "Local Variables:\n",
    "Local variables are defined within a specific function or block of code.\n",
    "They exist only within their enclosing scope (like a function), and they cannot be accessed outside that scope.\n",
    "Local variables have their scope limited to the block in which they are defined.\n",
    "\n",
    "Global Variables:\n",
    "Global variables are defined outside of any function or in the global scope.\n",
    "They can be accessed and modified from anywhere within the program, including within functions.\n",
    "If a variable is modified within a function without being explicitly declared as global, Python will create a new local variable within that function's scope."
   ]
  },
  {
   "cell_type": "code",
   "execution_count": 13,
   "metadata": {},
   "outputs": [
    {
     "name": "stdout",
     "output_type": "stream",
     "text": [
      "Global variable before modification: 10\n",
      "Global variable inside function: 15\n"
     ]
    }
   ],
   "source": [
    "#3\n",
    "global_var = 10\n",
    "\n",
    "def modify_global():\n",
    "    global global_var\n",
    "    global_var += 5\n",
    "\n",
    "def print_global():\n",
    "    print(\"Global variable inside function:\", global_var)\n",
    "\n",
    "print(\"Global variable before modification:\", global_var)\n",
    "modify_global()\n",
    "print_global()"
   ]
  },
  {
   "cell_type": "code",
   "execution_count": 5,
   "metadata": {},
   "outputs": [
    {
     "name": "stdout",
     "output_type": "stream",
     "text": [
      "120\n"
     ]
    }
   ],
   "source": [
    "#4\n",
    "def fact(n):\n",
    "    x = 1\n",
    "    for i in range(n,0,-1):\n",
    "        x *= i\n",
    "    return x\n",
    "\n",
    "print(fact(5))"
   ]
  },
  {
   "cell_type": "markdown",
   "metadata": {},
   "source": [
    "#5\n",
    "If you want to modify a global variable within a function, you'll need to use the global keyword to explicitly declare it."
   ]
  },
  {
   "cell_type": "markdown",
   "metadata": {},
   "source": [
    "Lambda Functions and Higher-Order Functions:\n",
    "1. What are lambda functions in Python, and when are they typically used?\n",
    "2. Write a Python program that uses lambda functions to sort a list of tuples based on the second\n",
    "element.\n",
    "3. Explain the concept of higher-order functions in Python, and provide an example.\n",
    "4. Create a Python function that takes a list of numbers and a function as arguments, applying the\n",
    "function to each element in the list."
   ]
  },
  {
   "cell_type": "markdown",
   "metadata": {},
   "source": [
    "#1\n",
    "Lambda functions, also known as anonymous functions, are small, anonymous functions defined using the lambda keyword in Python. They are used for creating small, throwaway functions without the need for formally defining a function using def.\n",
    "\n",
    "Syntax of Lambda Functions:\n",
    "The syntax of a lambda function is lambda arguments: 'expression'"
   ]
  },
  {
   "cell_type": "code",
   "execution_count": 14,
   "metadata": {},
   "outputs": [
    {
     "name": "stdout",
     "output_type": "stream",
     "text": [
      "[('Bob', 19), ('Alice', 22), ('Charlie', 25)]\n"
     ]
    }
   ],
   "source": [
    "#2\n",
    "data = [('Alice', 22), ('Bob', 19), ('Charlie', 25)]\n",
    "\n",
    "sorted_data = sorted(data, key=lambda x: x[1])\n",
    "print(sorted_data)"
   ]
  },
  {
   "cell_type": "markdown",
   "metadata": {},
   "source": [
    "#3\n",
    "In Python, higher-order functions are functions that can take other functions as arguments or return functions as results. Essentially, they treat functions as first-class citizens, allowing them to be manipulated and passed around as data."
   ]
  },
  {
   "cell_type": "code",
   "execution_count": null,
   "metadata": {},
   "outputs": [],
   "source": [
    "def square(x):\n",
    "    return x ** 2\n",
    "\n",
    "numbers = [1, 2, 3, 4, 5]\n",
    "squared_numbers = map(square, numbers)\n",
    "print(list(squared_numbers))"
   ]
  },
  {
   "cell_type": "code",
   "execution_count": 16,
   "metadata": {},
   "outputs": [
    {
     "name": "stdout",
     "output_type": "stream",
     "text": [
      "[1, 4, 9, 16, 25]\n"
     ]
    }
   ],
   "source": [
    "#4\n",
    "def apply_function_to_list(numbers, func):\n",
    "    return [func(num) for num in numbers]\n",
    "\n",
    "def square(x):\n",
    "    return x ** 2\n",
    "\n",
    "numbers_list = [1, 2, 3, 4, 5]\n",
    "\n",
    "result = apply_function_to_list(numbers_list, square)\n",
    "print(result)"
   ]
  },
  {
   "cell_type": "markdown",
   "metadata": {},
   "source": [
    "Built-in Functions:\n",
    "1. Describe the role of built-in functions like `len()`, `max()`, and `min()` in Python.\n",
    "2. Write a Python program that uses the `map()` function to apply a function to each element of a\n",
    "list.\n",
    "3. How does the `filter()` function work in Python, and when would you use it?\n",
    "4. Create a Python program that uses the `reduce()` function to find the product of all elements in a list."
   ]
  },
  {
   "cell_type": "markdown",
   "metadata": {},
   "source": [
    "#1\n",
    "len():\n",
    "The len() function is used to determine the length or the number of items in an iterable (such as strings, lists, tuples, etc.).\n",
    "It returns the count of elements present in the iterable.\n",
    "\n",
    "max():\n",
    "The max() function is used to find the maximum value among the items in an iterable or among multiple arguments.\n",
    "It returns the largest item in the iterable or the maximum of given arguments.\n",
    "\n",
    "min():\n",
    "The min() function is used to find the minimum value among the items in an iterable or among multiple arguments.\n",
    "It returns the smallest item in the iterable or the minimum of given arguments."
   ]
  },
  {
   "cell_type": "code",
   "execution_count": null,
   "metadata": {},
   "outputs": [],
   "source": [
    "#2\n",
    "def double(x):\n",
    "    return x * 2\n",
    "\n",
    "numbers = [1, 2, 3, 4, 5]\n",
    "doubled_numbers = list(map(double, numbers))\n",
    "print(doubled_numbers)"
   ]
  },
  {
   "cell_type": "markdown",
   "metadata": {},
   "source": [
    "#3\n",
    "The filter() function in Python is used to filter elements from an iterable (such as lists, tuples, etc.) based on a specified condition. It returns an iterator that contains elements from the iterable for which the provided function returns True.\n",
    "\n",
    "Use Cases:\n",
    "Filtering Data: Use filter() when you need to extract elements from a collection that satisfy a specific condition or criteria.\n",
    "Data Preprocessing: It's handy for data preprocessing tasks where you need to remove or extract certain elements from a dataset based on defined criteria."
   ]
  },
  {
   "cell_type": "code",
   "execution_count": 17,
   "metadata": {},
   "outputs": [
    {
     "name": "stdout",
     "output_type": "stream",
     "text": [
      "120\n"
     ]
    }
   ],
   "source": [
    "#4\n",
    "from functools import reduce\n",
    "\n",
    "numbers = [2, 3, 4, 5]\n",
    "def multiply(x, y):\n",
    "    return x * y\n",
    "\n",
    "product = reduce(multiply, numbers)\n",
    "print(product)"
   ]
  },
  {
   "cell_type": "markdown",
   "metadata": {},
   "source": [
    "Function Documentation and Best Practices:\n",
    "1. Explain the purpose of docstrings in Python functions and how to write them.\n",
    "2. Describe some best practices for naming functions and variables in python, including naming conventions and guidelines."
   ]
  },
  {
   "cell_type": "markdown",
   "metadata": {},
   "source": [
    "#1\n",
    "Docstrings in Python are used to describe the purpose, usage, and behavior of functions, modules, classes, or methods. They are string literals enclosed in triple quotes (''' ''' or \"\"\" \"\"\") that immediately follow the definition of the function, module, or class.\n",
    "\n",
    "Purpose of Docstrings:\n",
    "Documentation: They serve as documentation to explain what a function or piece of code does, its parameters, return values, and any relevant details.\n",
    "Readability: Docstrings enhance code readability and help other developers understand how to use and interact with your code."
   ]
  },
  {
   "cell_type": "code",
   "execution_count": 18,
   "metadata": {},
   "outputs": [],
   "source": [
    "def calculate_area(length, width):\n",
    "    \"\"\"\n",
    "    Calculate the area of a rectangle.\n",
    "\n",
    "    Args:\n",
    "    length (float): Length of the rectangle.\n",
    "    width (float): Width of the rectangle.\n",
    "\n",
    "    Returns:\n",
    "    float: The area of the rectangle.\n",
    "    \"\"\"\n",
    "    return length * width"
   ]
  },
  {
   "cell_type": "markdown",
   "metadata": {},
   "source": [
    "#2\n",
    "Naming functions and variables in Python according to conventions and best practices improves code readability and maintainability. Here are some recommended practices:\n",
    "\n",
    "Functions:\n",
    "Use Descriptive Names: Choose meaningful and descriptive names that convey the purpose of the function.\n",
    "For example, use calculate_area() instead of calc().\n",
    "Follow Snake Case: Use lowercase letters with underscores to separate words for function names.\n",
    "For example, calculate_area_of_rectangle() instead of calculateAreaOfRectangle().\n",
    "Verb-Noun Format: Prefer function names that indicate an action followed by a noun describing what the action is performed on.\n",
    "For instance, calculate_area() or validate_email().\n",
    "\n",
    "Variables:\n",
    "Use Descriptive Names: Similar to functions, use meaningful names for variables to indicate their purpose.\n",
    "For example, num_of_students instead of n.\n",
    "Follow Snake Case: Use lowercase letters with underscores to separate words for variable names.\n",
    "For instance, user_input instead of UserInput.\n",
    "Avoid Single-Letter Names: Use names that provide context and readability, unless for iterators in short loops where conventional names like i, j, k are acceptable."
   ]
  }
 ],
 "metadata": {
  "kernelspec": {
   "display_name": "Python 3",
   "language": "python",
   "name": "python3"
  },
  "language_info": {
   "codemirror_mode": {
    "name": "ipython",
    "version": 3
   },
   "file_extension": ".py",
   "mimetype": "text/x-python",
   "name": "python",
   "nbconvert_exporter": "python",
   "pygments_lexer": "ipython3",
   "version": "3.11.9"
  }
 },
 "nbformat": 4,
 "nbformat_minor": 2
}
