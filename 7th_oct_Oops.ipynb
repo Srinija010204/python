{
 "cells": [
  {
   "cell_type": "markdown",
   "metadata": {},
   "source": [
    "Problem 1: Bank Account Create a class representing a bank account with attributes like account number, account holder name, and balance. Implement methods to deposit and withdraw money from the account."
   ]
  },
  {
   "cell_type": "code",
   "execution_count": 13,
   "metadata": {},
   "outputs": [
    {
     "name": "stdout",
     "output_type": "stream",
     "text": [
      "2000 withdrawn and the remaining balnce is 6000\n",
      "Balance is 9500\n",
      "Entered amount is not avilable\n"
     ]
    }
   ],
   "source": [
    "class Bankaccount:\n",
    "    def __init__(self, acc_no, acc_holder_name, balance):\n",
    "        self.acc_no = acc_no\n",
    "        self.acc_holder_name = acc_holder_name\n",
    "        self.balance = balance\n",
    "    def deposit(self, dep):\n",
    "        print(f\"Balance is {self.balance+dep}\")\n",
    "    def withdrawal(self, withd):\n",
    "        if withd <= self.balance:\n",
    "            print(f\"{withd} withdrawn and the remaining balnce is {self.balance-withd}\")\n",
    "        else:\n",
    "            print(\"Entered amount is not avilable\")\n",
    "\n",
    "holder1 = Bankaccount(123, 'Srinija', 8000)\n",
    "holder1.withdrawal(2000)\n",
    "\n",
    "holder2 = Bankaccount(234, 'John', 4500)\n",
    "holder2.deposit(5000)\n",
    "\n",
    "holder3 = Bankaccount(345, 'suzzie', 500)\n",
    "holder3.withdrawal(1000)"
   ]
  },
  {
   "cell_type": "markdown",
   "metadata": {},
   "source": [
    "Problem 2: Employee Management Create a class representing an employee with attributes like employee ID, name, and salary. Implement methods to calculate the yearly bonus and display employee details."
   ]
  },
  {
   "cell_type": "code",
   "execution_count": 37,
   "metadata": {},
   "outputs": [
    {
     "name": "stdout",
     "output_type": "stream",
     "text": [
      "Yearly Bonus: $5000.00\n",
      "Employee Details:\n",
      "Employee ID: 101\n",
      "Name: John Doe\n",
      "Salary: $50000\n"
     ]
    }
   ],
   "source": [
    "class Employee:\n",
    "    def __init__(self, employee_id, name, salary):\n",
    "        self.employee_id = employee_id\n",
    "        self.name = name\n",
    "        self.salary = salary\n",
    "\n",
    "    def calculate_yearly_bonus(self, bonus_percentage):\n",
    "        return (bonus_percentage / 100) * self.salary\n",
    "\n",
    "    def display_employee_details(self):\n",
    "        print(\"Employee Details:\")\n",
    "        print(f\"Employee ID: {self.employee_id}\")\n",
    "        print(f\"Name: {self.name}\")\n",
    "        print(f\"Salary: ${self.salary}\")\n",
    "        \n",
    "if __name__ == \"__main__\":\n",
    "    # Create an employee\n",
    "    employee1 = Employee(101, \"John Doe\", 50000)\n",
    "\n",
    "    # Calculate and display the yearly bonus\n",
    "    bonus_percentage = 10  # 10% bonus\n",
    "    yearly_bonus = employee1.calculate_yearly_bonus(bonus_percentage)\n",
    "    print(f\"Yearly Bonus: ${yearly_bonus:.2f}\")\n",
    "\n",
    "    # Display employee details\n",
    "    employee1.display_employee_details()"
   ]
  },
  {
   "cell_type": "markdown",
   "metadata": {},
   "source": [
    "Problem 3: Vehicle Rental Create a class representing a vehicle rental system. Implement methods to rent a vehicle, return a vehicle, and display available vehicles."
   ]
  },
  {
   "cell_type": "code",
   "execution_count": 28,
   "metadata": {},
   "outputs": [
    {
     "name": "stdout",
     "output_type": "stream",
     "text": [
      "Available Vehicles:\n",
      "ID: V001, Type: Car\n",
      "ID: V002, Type: Bike\n",
      "Renting Car with ID V001\n",
      "Vehicle with ID V003 is not available.\n",
      "Returning Bike with ID V002\n",
      "Available Vehicles:\n",
      "ID: V001, Type: Car\n",
      "ID: V002, Type: Bike\n"
     ]
    }
   ],
   "source": [
    "class VehicleRentalSystem:\n",
    "    def __init__(self):\n",
    "        self.vehicles = {}\n",
    "    \n",
    "    def add_vehicle(self, vehicle_id, vehicle_type):\n",
    "        self.vehicles[vehicle_id] = vehicle_type\n",
    "\n",
    "    def rent_vehicle(self, vehicle_id):\n",
    "        if vehicle_id in self.vehicles:\n",
    "            print(f\"Renting {self.vehicles[vehicle_id]} with ID {vehicle_id}\")\n",
    "        else:\n",
    "            print(f\"Vehicle with ID {vehicle_id} is not available.\")\n",
    "\n",
    "    def return_vehicle(self, vehicle_id):\n",
    "        if vehicle_id in self.vehicles:\n",
    "            print(f\"Returning {self.vehicles[vehicle_id]} with ID {vehicle_id}\")\n",
    "        else:\n",
    "            print(f\"Vehicle with ID {vehicle_id} is not in our system.\")\n",
    "\n",
    "    def display_available_vehicles(self):\n",
    "        if self.vehicles:\n",
    "            print(\"Available Vehicles:\")\n",
    "            for vehicle_id, vehicle_type in self.vehicles.items():\n",
    "                print(f\"ID: {vehicle_id}, Type: {vehicle_type}\")\n",
    "        else:\n",
    "            print(\"No vehicles are currently available.\")\n",
    "\n",
    "if __name__ == \"__main__\":\n",
    "    rental_system = VehicleRentalSystem()\n",
    "\n",
    "    rental_system.add_vehicle(\"V001\", \"Car\")\n",
    "    rental_system.add_vehicle(\"V002\", \"Bike\")\n",
    "\n",
    "    rental_system.display_available_vehicles()\n",
    "\n",
    "    rental_system.rent_vehicle(\"V001\")\n",
    "    rental_system.rent_vehicle(\"V003\")  # Try to rent a non-existent vehicle\n",
    "    rental_system.return_vehicle(\"V002\")\n",
    "    rental_system.display_available_vehicles()"
   ]
  },
  {
   "cell_type": "markdown",
   "metadata": {},
   "source": [
    "Problem 4: Library Catalog Create classes representing a library and a book. Implement methods to add books to the library, borrow books, and display available books."
   ]
  },
  {
   "cell_type": "code",
   "execution_count": 29,
   "metadata": {},
   "outputs": [
    {
     "name": "stdout",
     "output_type": "stream",
     "text": [
      "Book 'The Great Gatsby' by F. Scott Fitzgerald added to the library.\n",
      "Book 'To Kill a Mockingbird' by Harper Lee added to the library.\n",
      "Book '1984' by George Orwell added to the library.\n",
      "Available Books:\n",
      "ID: B001, Title: The Great Gatsby, Author: F. Scott Fitzgerald\n",
      "ID: B002, Title: To Kill a Mockingbird, Author: Harper Lee\n",
      "ID: B003, Title: 1984, Author: George Orwell\n",
      "You have borrowed 'The Great Gatsby' by F. Scott Fitzgerald.\n",
      "Sorry, 'The Great Gatsby' by F. Scott Fitzgerald is already borrowed by someone else.\n",
      "Book with ID B004 does not exist in the library.\n",
      "Available Books:\n",
      "ID: B002, Title: To Kill a Mockingbird, Author: Harper Lee\n",
      "ID: B003, Title: 1984, Author: George Orwell\n"
     ]
    }
   ],
   "source": [
    "class Book:\n",
    "    def __init__(self, book_id, title, author):\n",
    "        self.book_id = book_id\n",
    "        self.title = title\n",
    "        self.author = author\n",
    "        self.is_available = True\n",
    "\n",
    "class Library:\n",
    "    def __init__(self):\n",
    "        self.books = {}\n",
    "\n",
    "    def add_book(self, book_id, title, author):\n",
    "        if book_id not in self.books:\n",
    "            self.books[book_id] = Book(book_id, title, author)\n",
    "            print(f\"Book '{title}' by {author} added to the library.\")\n",
    "        else:\n",
    "            print(f\"Book with ID {book_id} already exists in the library.\")\n",
    "\n",
    "    def borrow_book(self, book_id):\n",
    "        if book_id in self.books:\n",
    "            book = self.books[book_id]\n",
    "            if book.is_available:\n",
    "                book.is_available = False\n",
    "                print(f\"You have borrowed '{book.title}' by {book.author}.\")\n",
    "            else:\n",
    "                print(f\"Sorry, '{book.title}' by {book.author} is already borrowed by someone else.\")\n",
    "        else:\n",
    "            print(f\"Book with ID {book_id} does not exist in the library.\")\n",
    "\n",
    "    def display_available_books(self):\n",
    "        available_books = [book for book in self.books.values() if book.is_available]\n",
    "        if available_books:\n",
    "            print(\"Available Books:\")\n",
    "            for book in available_books:\n",
    "                print(f\"ID: {book.book_id}, Title: {book.title}, Author: {book.author}\")\n",
    "        else:\n",
    "            print(\"No books are currently available in the library.\")\n",
    "\n",
    "if __name__ == \"__main__\":\n",
    "    library = Library()\n",
    "\n",
    "    library.add_book(\"B001\", \"The Great Gatsby\", \"F. Scott Fitzgerald\")\n",
    "    library.add_book(\"B002\", \"To Kill a Mockingbird\", \"Harper Lee\")\n",
    "    library.add_book(\"B003\", \"1984\", \"George Orwell\")\n",
    "\n",
    "    library.display_available_books()\n",
    "\n",
    "    library.borrow_book(\"B001\")\n",
    "    library.borrow_book(\"B001\")  # Try to borrow the same book again\n",
    "    library.borrow_book(\"B004\")  # Try to borrow a non-existent book\n",
    "\n",
    "    library.display_available_books()"
   ]
  },
  {
   "cell_type": "markdown",
   "metadata": {},
   "source": [
    "Problem 5: Product Inventory Create classes representing a product and an inventory system. Implement methods to add products to the inventory, update product quantity, and display available products."
   ]
  },
  {
   "cell_type": "code",
   "execution_count": 30,
   "metadata": {},
   "outputs": [
    {
     "name": "stdout",
     "output_type": "stream",
     "text": [
      "Product 'Laptop' added to the inventory.\n",
      "Product 'Phone' added to the inventory.\n",
      "Product 'Tablet' added to the inventory.\n",
      "Available Products:\n",
      "ID: P001, Name: Laptop, Price: $800, Quantity: 10\n",
      "ID: P002, Name: Phone, Price: $400, Quantity: 15\n",
      "ID: P003, Name: Tablet, Price: $300, Quantity: 5\n",
      "Quantity for 'Laptop' updated to 8.\n",
      "Quantity for 'Phone' updated to 20.\n",
      "Available Products:\n",
      "ID: P001, Name: Laptop, Price: $800, Quantity: 8\n",
      "ID: P002, Name: Phone, Price: $400, Quantity: 20\n",
      "ID: P003, Name: Tablet, Price: $300, Quantity: 5\n"
     ]
    }
   ],
   "source": [
    "class Product:\n",
    "    def __init__(self, product_id, name, price, quantity):\n",
    "        self.product_id = product_id\n",
    "        self.name = name\n",
    "        self.price = price\n",
    "        self.quantity = quantity\n",
    "\n",
    "class Inventory:\n",
    "    def __init__(self):\n",
    "        self.products = {}\n",
    "\n",
    "    def add_product(self, product_id, name, price, quantity):\n",
    "        if product_id not in self.products:\n",
    "            self.products[product_id] = Product(product_id, name, price, quantity)\n",
    "            print(f\"Product '{name}' added to the inventory.\")\n",
    "        else:\n",
    "            print(f\"Product with ID {product_id} already exists in the inventory.\")\n",
    "\n",
    "    def update_product_quantity(self, product_id, new_quantity):\n",
    "        if product_id in self.products:\n",
    "            product = self.products[product_id]\n",
    "            product.quantity = new_quantity\n",
    "            print(f\"Quantity for '{product.name}' updated to {new_quantity}.\")\n",
    "        else:\n",
    "            print(f\"Product with ID {product_id} does not exist in the inventory.\")\n",
    "\n",
    "    def display_available_products(self):\n",
    "        available_products = [product for product in self.products.values() if product.quantity > 0]\n",
    "        if available_products:\n",
    "            print(\"Available Products:\")\n",
    "            for product in available_products:\n",
    "                print(f\"ID: {product.product_id}, Name: {product.name}, Price: ${product.price}, Quantity: {product.quantity}\")\n",
    "        else:\n",
    "            print(\"No products are currently available in the inventory.\")\n",
    "\n",
    "if __name__ == \"__main__\":\n",
    "    inventory = Inventory()\n",
    "\n",
    "    inventory.add_product(\"P001\", \"Laptop\", 800, 10)\n",
    "    inventory.add_product(\"P002\", \"Phone\", 400, 15)\n",
    "    inventory.add_product(\"P003\", \"Tablet\", 300, 5)\n",
    "\n",
    "    inventory.display_available_products()\n",
    "\n",
    "    inventory.update_product_quantity(\"P001\", 8)\n",
    "    inventory.update_product_quantity(\"P002\", 20)  # Try to update quantity for a non-existent product\n",
    "\n",
    "    inventory.display_available_products()"
   ]
  },
  {
   "cell_type": "markdown",
   "metadata": {},
   "source": [
    "Problem 6: Shape Calculation Create a class representing a shape with attributes like length, width, and height. Implement methods to calculate the area and perimeter of the shape."
   ]
  },
  {
   "cell_type": "code",
   "execution_count": 31,
   "metadata": {},
   "outputs": [
    {
     "name": "stdout",
     "output_type": "stream",
     "text": [
      "Rectangle Area: 20\n",
      "Rectangle Perimeter: 18\n"
     ]
    }
   ],
   "source": [
    "class Shape:\n",
    "    def __init__(self, length, width, height):\n",
    "        self.length = length\n",
    "        self.width = width\n",
    "        self.height = height\n",
    "\n",
    "class Rectangle(Shape):\n",
    "    def calculate_area(self):\n",
    "        return self.length * self.width\n",
    "\n",
    "    def calculate_perimeter(self):\n",
    "        return 2 * (self.length + self.width)\n",
    "\n",
    "if __name__ == \"__main__\":\n",
    "    # Create a rectangle\n",
    "    rectangle = Rectangle(5, 4, 0)\n",
    "\n",
    "    # Calculate and display the area and perimeter\n",
    "    area = rectangle.calculate_area()\n",
    "    perimeter = rectangle.calculate_perimeter()\n",
    "\n",
    "    print(f\"Rectangle Area: {area}\")\n",
    "    print(f\"Rectangle Perimeter: {perimeter}\")"
   ]
  },
  {
   "cell_type": "markdown",
   "metadata": {},
   "source": [
    "Problem 7: Student Management Create a class representing a student with attributes like student ID, name, and grades. Implement methods to calculate the average grade and display student details."
   ]
  },
  {
   "cell_type": "code",
   "execution_count": 32,
   "metadata": {},
   "outputs": [
    {
     "name": "stdout",
     "output_type": "stream",
     "text": [
      "Student ID: S001\n",
      "Name: John\n",
      "Grades: 90, 85, 92\n",
      "Average Grade: 89.00\n"
     ]
    }
   ],
   "source": [
    "class Student:\n",
    "    def __init__(self, student_id, name):\n",
    "        self.student_id = student_id\n",
    "        self.name = name\n",
    "        self.grades = []\n",
    "\n",
    "    def add_grade(self, grade):\n",
    "        self.grades.append(grade)\n",
    "\n",
    "    def calculate_average_grade(self):\n",
    "        if len(self.grades) > 0:\n",
    "            return sum(self.grades) / len(self.grades)\n",
    "        else:\n",
    "            return 0  # To handle the case when there are no grades.\n",
    "\n",
    "    def display_student_details(self):\n",
    "        print(f\"Student ID: {self.student_id}\")\n",
    "        print(f\"Name: {self.name}\")\n",
    "        print(f\"Grades: {', '.join(map(str, self.grades))}\")\n",
    "        average_grade = self.calculate_average_grade()\n",
    "        print(f\"Average Grade: {average_grade:.2f}\")\n",
    "\n",
    "if __name__ == \"__main__\":\n",
    "    # Create a student\n",
    "    student1 = Student(\"S001\", \"John\")\n",
    "\n",
    "    # Add grades\n",
    "    student1.add_grade(90)\n",
    "    student1.add_grade(85)\n",
    "    student1.add_grade(92)\n",
    "\n",
    "    # Display student details\n",
    "    student1.display_student_details()"
   ]
  },
  {
   "cell_type": "markdown",
   "metadata": {},
   "source": [
    "Problem 8: Email Management Create a class representing an email with attributes like sender, recipient, and subject. Implement methods to send an email and display email details."
   ]
  },
  {
   "cell_type": "code",
   "execution_count": 33,
   "metadata": {},
   "outputs": [
    {
     "name": "stdout",
     "output_type": "stream",
     "text": [
      "Email sent from sender@example.com to recipient@example.com with subject 'Hello, World!'.\n",
      "Email Details:\n",
      "Sender: sender@example.com\n",
      "Recipient: recipient@example.com\n",
      "Subject: Hello, World!\n",
      "Status: Sent\n"
     ]
    }
   ],
   "source": [
    "class Email:\n",
    "    def __init__(self, sender, recipient, subject):\n",
    "        self.sender = sender\n",
    "        self.recipient = recipient\n",
    "        self.subject = subject\n",
    "        self.is_sent = False\n",
    "\n",
    "    def send_email(self):\n",
    "        # Simulate sending the email, in reality, you would use an email service or library.\n",
    "        self.is_sent = True\n",
    "        print(f\"Email sent from {self.sender} to {self.recipient} with subject '{self.subject}'.\")\n",
    "\n",
    "    def display_email_details(self):\n",
    "        print(\"Email Details:\")\n",
    "        print(f\"Sender: {self.sender}\")\n",
    "        print(f\"Recipient: {self.recipient}\")\n",
    "        print(f\"Subject: {self.subject}\")\n",
    "        if self.is_sent:\n",
    "            print(\"Status: Sent\")\n",
    "        else:\n",
    "            print(\"Status: Draft\")\n",
    "\n",
    "if __name__ == \"__main__\":\n",
    "    # Create an email\n",
    "    email = Email(\"sender@example.com\", \"recipient@example.com\", \"Hello, World!\")\n",
    "\n",
    "    # Send the email\n",
    "    email.send_email()\n",
    "\n",
    "    # Display email details\n",
    "    email.display_email_details()"
   ]
  },
  {
   "cell_type": "markdown",
   "metadata": {},
   "source": [
    "Problem 9: Social Media Profile Create a class representing a social media profile with attributes like username and posts. Implement methods to add posts, display posts, and search for posts by keyword."
   ]
  },
  {
   "cell_type": "code",
   "execution_count": 35,
   "metadata": {},
   "outputs": [
    {
     "name": "stdout",
     "output_type": "stream",
     "text": [
      "New post added by user123: 'Hello, everyone! What's up?'\n",
      "New post added by user123: 'Just had a great day at the beach.'\n",
      "New post added by user123: 'Looking for recommendations for good books to read.'\n",
      "Posts by user123:\n",
      "Hello, everyone! What's up?\n",
      "Just had a great day at the beach.\n",
      "Looking for recommendations for good books to read.\n",
      "Posts by user123 containing the keyword 'beach':\n",
      "Just had a great day at the beach.\n"
     ]
    }
   ],
   "source": [
    "class SocialMediaProfile:\n",
    "    def __init__(self, username):\n",
    "        self.username = username\n",
    "        self.posts = []\n",
    "\n",
    "    def add_post(self, post_content):\n",
    "        self.posts.append(post_content)\n",
    "        print(f\"New post added by {self.username}: '{post_content}'\")\n",
    "\n",
    "    def display_posts(self):\n",
    "        if not self.posts:\n",
    "            print(f\"{self.username} has no posts.\")\n",
    "        else:\n",
    "            print(f\"Posts by {self.username}:\")\n",
    "            for post in self.posts:\n",
    "                print(post)\n",
    "\n",
    "    def search_posts(self, keyword):\n",
    "        matching_posts = [post for post in self.posts if keyword in post]\n",
    "        if not matching_posts:\n",
    "            print(f\"No posts by {self.username} contain the keyword '{keyword}'.\")\n",
    "        else:\n",
    "            print(f\"Posts by {self.username} containing the keyword '{keyword}':\")\n",
    "            for post in matching_posts:\n",
    "                print(post)\n",
    "\n",
    "if __name__ == \"__main__\":\n",
    "    # Create a social media profile\n",
    "    profile = SocialMediaProfile(\"user123\")\n",
    "\n",
    "    # Add posts\n",
    "    profile.add_post(\"Hello, everyone! What's up?\")\n",
    "    profile.add_post(\"Just had a great day at the beach.\")\n",
    "    profile.add_post(\"Looking for recommendations for good books to read.\")\n",
    "\n",
    "    # Display posts\n",
    "    profile.display_posts()\n",
    "\n",
    "    # Search for posts containing a keyword\n",
    "    profile.search_posts(\"beach\")"
   ]
  },
  {
   "cell_type": "markdown",
   "metadata": {},
   "source": [
    "Problem 10: ToDo List Create a class representing a ToDo list with attributes like tasks and due dates. Implement methods to add tasks, mark tasks as completed, and display pending tasks."
   ]
  },
  {
   "cell_type": "code",
   "execution_count": 36,
   "metadata": {},
   "outputs": [
    {
     "name": "stdout",
     "output_type": "stream",
     "text": [
      "Task 'Complete project report' with due date 2023-10-20 added to the ToDo list.\n",
      "Task 'Buy groceries' with due date 2023-10-15 added to the ToDo list.\n",
      "Task 'Call the client' with due date 2023-10-18 added to the ToDo list.\n",
      "Pending Tasks:\n",
      "Task: Complete project report, Due Date: 2023-10-20\n",
      "Task: Buy groceries, Due Date: 2023-10-15\n",
      "Task: Call the client, Due Date: 2023-10-18\n",
      "Task 'Buy groceries' has been marked as completed.\n",
      "Task 'Send an email' not found in the ToDo list.\n",
      "Pending Tasks:\n",
      "Task: Complete project report, Due Date: 2023-10-20\n",
      "Task: Call the client, Due Date: 2023-10-18\n"
     ]
    }
   ],
   "source": [
    "class ToDoList:\n",
    "    def __init__(self):\n",
    "        self.tasks = []\n",
    "\n",
    "    def add_task(self, task, due_date):\n",
    "        self.tasks.append({\"task\": task, \"due_date\": due_date, \"completed\": False})\n",
    "        print(f\"Task '{task}' with due date {due_date} added to the ToDo list.\")\n",
    "\n",
    "    def mark_task_as_completed(self, task):\n",
    "        for t in self.tasks:\n",
    "            if t[\"task\"] == task:\n",
    "                t[\"completed\"] = True\n",
    "                print(f\"Task '{task}' has been marked as completed.\")\n",
    "                return\n",
    "        print(f\"Task '{task}' not found in the ToDo list.\")\n",
    "\n",
    "    def display_pending_tasks(self):\n",
    "        pending_tasks = [t for t in self.tasks if not t[\"completed\"]]\n",
    "        if pending_tasks:\n",
    "            print(\"Pending Tasks:\")\n",
    "            for t in pending_tasks:\n",
    "                print(f\"Task: {t['task']}, Due Date: {t['due_date']}\")\n",
    "        else:\n",
    "            print(\"No pending tasks in the ToDo list.\")\n",
    "\n",
    "if __name__ == \"__main__\":\n",
    "    todo_list = ToDoList()\n",
    "\n",
    "    todo_list.add_task(\"Complete project report\", \"2023-10-20\")\n",
    "    todo_list.add_task(\"Buy groceries\", \"2023-10-15\")\n",
    "    todo_list.add_task(\"Call the client\", \"2023-10-18\")\n",
    "\n",
    "    todo_list.display_pending_tasks()\n",
    "\n",
    "    todo_list.mark_task_as_completed(\"Buy groceries\")\n",
    "    todo_list.mark_task_as_completed(\"Send an email\")\n",
    "\n",
    "    todo_list.display_pending_tasks()"
   ]
  }
 ],
 "metadata": {
  "kernelspec": {
   "display_name": "Python 3",
   "language": "python",
   "name": "python3"
  },
  "language_info": {
   "codemirror_mode": {
    "name": "ipython",
    "version": 3
   },
   "file_extension": ".py",
   "mimetype": "text/x-python",
   "name": "python",
   "nbconvert_exporter": "python",
   "pygments_lexer": "ipython3",
   "version": "3.11.6"
  }
 },
 "nbformat": 4,
 "nbformat_minor": 2
}
