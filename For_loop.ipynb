{
 "cells": [
  {
   "cell_type": "markdown",
   "metadata": {},
   "source": [
    "1. Write a Python program to print the numbers from 1 to 10 using a `for` loop."
   ]
  },
  {
   "cell_type": "code",
   "execution_count": 1,
   "metadata": {},
   "outputs": [
    {
     "name": "stdout",
     "output_type": "stream",
     "text": [
      "1\n",
      "2\n",
      "3\n",
      "4\n",
      "5\n",
      "6\n",
      "7\n",
      "8\n",
      "9\n",
      "10\n"
     ]
    }
   ],
   "source": [
    "for i in range(1,11):\n",
    "    print(i)"
   ]
  },
  {
   "cell_type": "markdown",
   "metadata": {},
   "source": [
    "2. Create a program that calculates the sum of all numbers in a list using a `for` loop."
   ]
  },
  {
   "cell_type": "code",
   "execution_count": 2,
   "metadata": {},
   "outputs": [
    {
     "name": "stdout",
     "output_type": "stream",
     "text": [
      "116.6\n"
     ]
    }
   ],
   "source": [
    "list1 = [3, 8, 6, 9, 84, 6.6]\n",
    "sum_of_all_nums = 0\n",
    "for i  in list1:\n",
    "    sum_of_all_nums += i\n",
    "print(sum_of_all_nums)"
   ]
  },
  {
   "cell_type": "markdown",
   "metadata": {},
   "source": [
    "3. Write a program to print the characters of a string in reverse order using a `for` loop."
   ]
  },
  {
   "cell_type": "code",
   "execution_count": 8,
   "metadata": {},
   "outputs": [
    {
     "name": "stdout",
     "output_type": "stream",
     "text": [
      "gninrom doog"
     ]
    }
   ],
   "source": [
    "str1 = 'good morning'\n",
    "str2 = str1[::-1]\n",
    "for char in str2:\n",
    "    print(char, end='')"
   ]
  },
  {
   "cell_type": "markdown",
   "metadata": {},
   "source": [
    "4. Develop a program that finds the factorial of a given number using a `for` loop."
   ]
  },
  {
   "cell_type": "code",
   "execution_count": 11,
   "metadata": {},
   "outputs": [
    {
     "name": "stdout",
     "output_type": "stream",
     "text": [
      "120\n"
     ]
    }
   ],
   "source": [
    "num = 5\n",
    "factorial = 1\n",
    "for i in range(1,num+1):\n",
    "    factorial = factorial*i\n",
    "print(factorial)"
   ]
  },
  {
   "cell_type": "markdown",
   "metadata": {},
   "source": [
    "5. Create a program to print the multiplication table of a given number using a `for` loop."
   ]
  },
  {
   "cell_type": "code",
   "execution_count": 13,
   "metadata": {},
   "outputs": [
    {
     "name": "stdout",
     "output_type": "stream",
     "text": [
      "9 x 1 = 9\n",
      "9 x 2 = 18\n",
      "9 x 3 = 27\n",
      "9 x 4 = 36\n",
      "9 x 5 = 45\n",
      "9 x 6 = 54\n",
      "9 x 7 = 63\n",
      "9 x 8 = 72\n",
      "9 x 9 = 81\n",
      "9 x 10 = 90\n"
     ]
    }
   ],
   "source": [
    "number = 9\n",
    "for i in range(1, 11):\n",
    "    print(f\"{number} x {i} = {number*i}\")"
   ]
  },
  {
   "cell_type": "markdown",
   "metadata": {},
   "source": [
    "6. Write a program that counts the number of even and odd numbers in a list using a `for` loop."
   ]
  },
  {
   "cell_type": "code",
   "execution_count": 14,
   "metadata": {},
   "outputs": [
    {
     "name": "stdout",
     "output_type": "stream",
     "text": [
      "No. of even numbers are:  5\n",
      "No. of odd numbers are:  5\n"
     ]
    }
   ],
   "source": [
    "list1 = [1, 2, 3, 4, 5, 6, 7, 8, 9, 10]\n",
    "number_of_even_nums = 0\n",
    "number_of_odd_nums = 0\n",
    "for i in list1:\n",
    "    if i%2 == 0:\n",
    "        number_of_even_nums += 1\n",
    "    else:\n",
    "        number_of_odd_nums += 1\n",
    "print(\"No. of even numbers are: \",number_of_even_nums)\n",
    "print(\"No. of odd numbers are: \",number_of_odd_nums)\n"
   ]
  },
  {
   "cell_type": "markdown",
   "metadata": {},
   "source": [
    "7. Develop a program that prints the squares of numbers from 1 to 5 using a `for` loop."
   ]
  },
  {
   "cell_type": "code",
   "execution_count": 15,
   "metadata": {},
   "outputs": [
    {
     "name": "stdout",
     "output_type": "stream",
     "text": [
      "1\n",
      "4\n",
      "9\n",
      "16\n",
      "25\n"
     ]
    }
   ],
   "source": [
    "for i in range(1, 6):\n",
    "    print(i*i)\n"
   ]
  },
  {
   "cell_type": "markdown",
   "metadata": {},
   "source": [
    "8. Create a program to find the length of a string without using the `len()` function."
   ]
  },
  {
   "cell_type": "code",
   "execution_count": 16,
   "metadata": {},
   "outputs": [
    {
     "name": "stdout",
     "output_type": "stream",
     "text": [
      "12\n"
     ]
    }
   ],
   "source": [
    "str1= 'good morning'\n",
    "length = 0\n",
    "for char in str1:\n",
    "    length += 1\n",
    "print(length)"
   ]
  },
  {
   "cell_type": "markdown",
   "metadata": {},
   "source": [
    "9. Write a program that calculates the average of a list of numbers using a `for` loop."
   ]
  },
  {
   "cell_type": "code",
   "execution_count": 17,
   "metadata": {},
   "outputs": [
    {
     "name": "stdout",
     "output_type": "stream",
     "text": [
      "5.5\n"
     ]
    }
   ],
   "source": [
    "lis1 = [1, 2, 3, 4, 5, 6, 7, 8, 9, 10]\n",
    "sum = 0\n",
    "for i in list1:\n",
    "    sum += i\n",
    "avg = sum/len(list1)\n",
    "print(avg)"
   ]
  },
  {
   "cell_type": "markdown",
   "metadata": {},
   "source": [
    "10. Develop a program that prints the first `n` Fibonacci numbers using a `for` loop."
   ]
  },
  {
   "cell_type": "code",
   "execution_count": 13,
   "metadata": {},
   "outputs": [
    {
     "name": "stdout",
     "output_type": "stream",
     "text": [
      "0\n",
      "1\n",
      "1\n",
      "2\n",
      "3\n",
      "5\n",
      "8\n",
      "13\n",
      "21\n",
      "34\n"
     ]
    }
   ],
   "source": [
    "def print_fibonacci(n):\n",
    "    if n <= 0:\n",
    "        return\n",
    "    elif n == 1:\n",
    "        print(0)\n",
    "    else:\n",
    "        fib_list = [0, 1]\n",
    "        for i in range(2, n):\n",
    "            next_fib = fib_list[i - 1] + fib_list[i - 2]\n",
    "            fib_list.append(next_fib)\n",
    "        for number in fib_list:\n",
    "            print(number)\n",
    "\n",
    "# Input for the number of Fibonacci numbers to print\n",
    "n = int(input(\"Enter the number of Fibonacci numbers to print: \"))\n",
    "\n",
    "# Call the function to print the first n Fibonacci numbers\n",
    "print_fibonacci(n)"
   ]
  },
  {
   "cell_type": "markdown",
   "metadata": {},
   "source": [
    "11. Write a program to check if a given list contains any duplicates using a `for` loop."
   ]
  },
  {
   "cell_type": "code",
   "execution_count": 32,
   "metadata": {},
   "outputs": [
    {
     "name": "stdout",
     "output_type": "stream",
     "text": [
      "There are duplicates\n"
     ]
    }
   ],
   "source": [
    "list1 = [4, 7, 2, 4, 1, 6, 6]\n",
    "temp = 0\n",
    "j = 0\n",
    "for i in list1:\n",
    "    if i in list1[j+1:len(list1):1]:\n",
    "        temp += 1\n",
    "    j += 1\n",
    "if temp > 0:\n",
    "    print(\"There are duplicates\")\n",
    "else:\n",
    "    print(\"No duplicates\")"
   ]
  },
  {
   "cell_type": "markdown",
   "metadata": {},
   "source": [
    "12. Create a program that prints the prime numbers in a given range using a `for` loop."
   ]
  },
  {
   "cell_type": "code",
   "execution_count": 14,
   "metadata": {},
   "outputs": [
    {
     "name": "stdout",
     "output_type": "stream",
     "text": [
      "Prime numbers in the range 5 to 30 are:\n",
      "5\n",
      "7\n",
      "11\n",
      "13\n",
      "17\n",
      "19\n",
      "23\n",
      "29\n"
     ]
    }
   ],
   "source": [
    "def is_prime(number):\n",
    "    if number <= 1:\n",
    "        return False\n",
    "    if number <= 3:\n",
    "        return True\n",
    "\n",
    "    if number % 2 == 0 or number % 3 == 0:\n",
    "        return False\n",
    "\n",
    "    i = 5\n",
    "    while i * i <= number:\n",
    "        if number % i == 0 or number % (i + 2) == 0:\n",
    "            return False\n",
    "        i += 6\n",
    "\n",
    "    return True\n",
    "\n",
    "# Input for the range of numbers\n",
    "start = int(input(\"Enter the starting number: \"))\n",
    "end = int(input(\"Enter the ending number: \"))\n",
    "\n",
    "print(\"Prime numbers in the range\", start, \"to\", end, \"are:\")\n",
    "\n",
    "# Iterate through the range and print prime numbers\n",
    "for num in range(start, end + 1):\n",
    "    if is_prime(num):\n",
    "        print(num)"
   ]
  },
  {
   "cell_type": "markdown",
   "metadata": {},
   "source": [
    "13. Develop a program that counts the number of vowels in a string using a `for` loop."
   ]
  },
  {
   "cell_type": "code",
   "execution_count": 15,
   "metadata": {},
   "outputs": [
    {
     "name": "stdout",
     "output_type": "stream",
     "text": [
      "The number of vowels are :  4\n"
     ]
    }
   ],
   "source": [
    "str1 = 'good morning'\n",
    "count = 0\n",
    "for char in str1:\n",
    "    if char == 'a' or char == 'e' or char == 'i' or char == 'o' or char == 'u':\n",
    "        count += 1\n",
    "print(\"The number of vowels are : \",count)"
   ]
  },
  {
   "cell_type": "markdown",
   "metadata": {},
   "source": [
    "14. Write a program to find the maximum element in a 2D list using a nested `for` loop."
   ]
  },
  {
   "cell_type": "code",
   "execution_count": 37,
   "metadata": {},
   "outputs": [
    {
     "name": "stdout",
     "output_type": "stream",
     "text": [
      "Maximun element :  7\n"
     ]
    }
   ],
   "source": [
    "list1 = [[2, 4, 6], [1, 3, 5, 7], [1, 2, 3, 4, 5]]\n",
    "max = list1[0][0]\n",
    "for i in range(0, len(list1)):\n",
    "    for  j in range(len(list1[i])):\n",
    "        if max < list1[i][j]:\n",
    "            max = list1[i][j]\n",
    "print(\"Maximun element : \",max)\n"
   ]
  },
  {
   "cell_type": "markdown",
   "metadata": {},
   "source": [
    "15. Create a program that removes all occurrences of a specific element from a list using a `for` loop."
   ]
  },
  {
   "cell_type": "code",
   "execution_count": 50,
   "metadata": {},
   "outputs": [
    {
     "name": "stdout",
     "output_type": "stream",
     "text": [
      "[4, 5, 2, 7, 8, 3]\n"
     ]
    }
   ],
   "source": [
    "list1 = [4, 5, 2, 7, 8, 4, 7, 4, 3]\n",
    "list2 = []\n",
    "i = 0\n",
    "for i in list1:\n",
    "    if i not in list2:\n",
    "        list2.append(i)\n",
    "print(list2)\n",
    "\n"
   ]
  },
  {
   "cell_type": "markdown",
   "metadata": {},
   "source": [
    "16. Develop a program that generates a multiplication table for numbers from 1 to 5 using a nested `for` loop."
   ]
  },
  {
   "cell_type": "code",
   "execution_count": 15,
   "metadata": {},
   "outputs": [
    {
     "name": "stdout",
     "output_type": "stream",
     "text": [
      "Multiplication Table\n",
      "\t1\t2\t3\t4\t5\t\n",
      "\n",
      "1\t1\t2\t3\t4\t5\t\n",
      "\n",
      "2\t2\t4\t6\t8\t10\t\n",
      "\n",
      "3\t3\t6\t9\t12\t15\t\n",
      "\n",
      "4\t4\t8\t12\t16\t20\t\n",
      "\n",
      "5\t5\t10\t15\t20\t25\t\n",
      "\n"
     ]
    }
   ],
   "source": [
    "# Define the range of numbers for the multiplication table\n",
    "start = 1\n",
    "end = 5\n",
    "\n",
    "# Print the header row\n",
    "print(\"Multiplication Table\")\n",
    "\n",
    "# Print the column headers\n",
    "print(\"\\t\", end=\"\")\n",
    "for i in range(start, end + 1):\n",
    "    print(i, end=\"\\t\")\n",
    "print(\"\\n\")\n",
    "\n",
    "# Generate the multiplication table using nested for loops\n",
    "for i in range(start, end + 1):\n",
    "    print(i, end=\"\\t\")\n",
    "    for j in range(start, end + 1):\n",
    "        result = i * j\n",
    "        print(result, end=\"\\t\")\n",
    "    print(\"\\n\")"
   ]
  },
  {
   "cell_type": "markdown",
   "metadata": {},
   "source": [
    "17. Write a program that converts a list of Fahrenheit temperatures to Celsius using a `for` loop."
   ]
  },
  {
   "cell_type": "code",
   "execution_count": 52,
   "metadata": {},
   "outputs": [
    {
     "name": "stdout",
     "output_type": "stream",
     "text": [
      "Celsius list:  [7.222222222222222, 2.2222222222222223, 31.11111111111111, 17.77777777777778, 36.666666666666664]\n"
     ]
    }
   ],
   "source": [
    "fahrenheit_tempt = [45, 36, 88, 64, 98]\n",
    "celsius_temp = []\n",
    "for fahrenheit in fahrenheit_tempt:\n",
    "    celsius = ((fahrenheit-32)*5)/9\n",
    "    celsius_temp.append(celsius)\n",
    "print(\"Celsius list: \", celsius_temp)"
   ]
  },
  {
   "cell_type": "markdown",
   "metadata": {},
   "source": [
    "18. Create a program to print the common elements from two lists using a `for` loop."
   ]
  },
  {
   "cell_type": "code",
   "execution_count": 57,
   "metadata": {},
   "outputs": [
    {
     "name": "stdout",
     "output_type": "stream",
     "text": [
      "3\n",
      "5\n",
      "6\n",
      "8\n"
     ]
    }
   ],
   "source": [
    "list1 = [1, 2, 3, 4, 5, 5, 6, 8, 6]\n",
    "list2 = [5, 6, 7, 8, 9, 10, 12, 3]\n",
    "list3 = []\n",
    "for i in list1:\n",
    "    for j in list2:\n",
    "        if i == j:\n",
    "            if i not in list3:\n",
    "                list3.append(i)\n",
    "                print(i)"
   ]
  },
  {
   "cell_type": "markdown",
   "metadata": {},
   "source": [
    "19. Develop a program that prints the pattern of right-angled triangles using a `for` loop. Use ‘*’ to draw the pattern."
   ]
  },
  {
   "cell_type": "code",
   "execution_count": 60,
   "metadata": {},
   "outputs": [
    {
     "name": "stdout",
     "output_type": "stream",
     "text": [
      "*\n",
      "**\n",
      "***\n",
      "****\n",
      "*****\n"
     ]
    }
   ],
   "source": [
    "length = 5\n",
    "character = '*'\n",
    "for i in range(1, length+1):\n",
    "    print(i*character)"
   ]
  },
  {
   "cell_type": "markdown",
   "metadata": {},
   "source": [
    "20. Write a program to find the greatest common divisor (GCD) of two numbers using a `for` loop."
   ]
  },
  {
   "cell_type": "code",
   "execution_count": 1,
   "metadata": {},
   "outputs": [
    {
     "name": "stdout",
     "output_type": "stream",
     "text": [
      "The GCD of 5 and 4 is 1\n"
     ]
    }
   ],
   "source": [
    "def find_gcd(num1, num2):\n",
    "    # Initialize the GCD to 1 (the smallest possible GCD)\n",
    "    gcd = 1\n",
    "    \n",
    "    # Find the minimum of the two numbers\n",
    "    min_num = min(num1, num2)\n",
    "    \n",
    "    # Use a for loop to iterate from 2 to the minimum number\n",
    "    for i in range(2, min_num + 1):\n",
    "        # Check if both numbers are divisible by the current value of i\n",
    "        if num1 % i == 0 and num2 % i == 0:\n",
    "            gcd = i  # Update the GCD\n",
    "    \n",
    "    return gcd\n",
    "\n",
    "# Input two numbers from the user\n",
    "num1 = int(input(\"Enter the first number: \"))\n",
    "num2 = int(input(\"Enter the second number: \"))\n",
    "\n",
    "# Call the function to find the GCD and print the result\n",
    "result = find_gcd(num1, num2)\n",
    "print(f\"The GCD of {num1} and {num2} is {result}\")"
   ]
  },
  {
   "cell_type": "markdown",
   "metadata": {},
   "source": [
    "21. Create a program that calculates the sum of the digits of numbers in a list using a list comprehension."
   ]
  },
  {
   "cell_type": "code",
   "execution_count": 16,
   "metadata": {},
   "outputs": [
    {
     "name": "stdout",
     "output_type": "stream",
     "text": [
      "Number: 123, Sum of digits: 6\n",
      "Number: 45, Sum of digits: 9\n",
      "Number: 6789, Sum of digits: 30\n",
      "Number: 12, Sum of digits: 3\n",
      "Number: 345, Sum of digits: 12\n"
     ]
    }
   ],
   "source": [
    "def sum_of_digits(number):\n",
    "    return sum(int(digit) for digit in str(number))\n",
    "\n",
    "# List of numbers\n",
    "numbers = [123, 45, 6789, 12, 345]\n",
    "\n",
    "# Use list comprehension to calculate the sum of digits for each number\n",
    "sums = [sum_of_digits(num) for num in numbers]\n",
    "\n",
    "# Print the list of numbers and their corresponding sums of digits\n",
    "for i in range(len(numbers)):\n",
    "    print(f\"Number: {numbers[i]}, Sum of digits: {sums[i]}\")"
   ]
  },
  {
   "cell_type": "markdown",
   "metadata": {},
   "source": [
    "22. Write a program to find the prime factors of a given number using a `for` loop and list comprehension."
   ]
  },
  {
   "cell_type": "code",
   "execution_count": 18,
   "metadata": {},
   "outputs": [
    {
     "name": "stdout",
     "output_type": "stream",
     "text": [
      "The prime factors of 6 are: [2, 3]\n"
     ]
    }
   ],
   "source": [
    "def prime_factors(n):\n",
    "    factors = []\n",
    "    # Divide n by 2 until it is odd\n",
    "    while n % 2 == 0:\n",
    "        factors.append(2)\n",
    "        n = n // 2\n",
    "\n",
    "    # Divide n by odd numbers starting from 3\n",
    "    for i in range(3, int(n**0.5) + 1, 2):\n",
    "        while n % i == 0:\n",
    "            factors.append(i)\n",
    "            n = n // i\n",
    "\n",
    "    # If n becomes a prime greater than 2, add it to factors\n",
    "    if n > 2:\n",
    "        factors.append(n)\n",
    "\n",
    "    return factors\n",
    "\n",
    "# Input a number from the user\n",
    "number = 6\n",
    "\n",
    "# Find the prime factors using the function\n",
    "factors = prime_factors(number)\n",
    "\n",
    "# Print the prime factors\n",
    "print(f\"The prime factors of {number} are: {factors}\")"
   ]
  },
  {
   "cell_type": "markdown",
   "metadata": {},
   "source": [
    "23. Develop a program that extracts unique elements from a list and stores them in a new list using a list comprehension."
   ]
  },
  {
   "cell_type": "code",
   "execution_count": 19,
   "metadata": {},
   "outputs": [
    {
     "name": "stdout",
     "output_type": "stream",
     "text": [
      "Original List: [1, 2, 2, 3, 4, 4, 5, 6, 6]\n",
      "Unique List: [1, 2, 3, 4, 5, 6]\n"
     ]
    }
   ],
   "source": [
    "original_list = [1, 2, 2, 3, 4, 4, 5, 6, 6]\n",
    "\n",
    "# Use a list comprehension to create a new list with unique elements\n",
    "unique_list = [x for i, x in enumerate(original_list) if x not in original_list[:i]]\n",
    "\n",
    "# Print the original list and the unique list\n",
    "print(\"Original List:\", original_list)\n",
    "print(\"Unique List:\", unique_list)"
   ]
  },
  {
   "cell_type": "markdown",
   "metadata": {},
   "source": [
    "24. Create a program that generates a list of all palindromic numbers up to a specified limit using a list comprehension."
   ]
  },
  {
   "cell_type": "code",
   "execution_count": 20,
   "metadata": {},
   "outputs": [
    {
     "name": "stdout",
     "output_type": "stream",
     "text": [
      "Palindromic Numbers up to 4 are: [1, 2, 3, 4]\n"
     ]
    }
   ],
   "source": [
    "# Function to check if a number is a palindrome\n",
    "def is_palindrome(number):\n",
    "    return str(number) == str(number)[::-1]\n",
    "\n",
    "# Input the limit from the user\n",
    "limit = int(input(\"Enter the limit: \"))\n",
    "\n",
    "# Use a list comprehension to generate a list of palindromic numbers\n",
    "palindromic_numbers = [num for num in range(1, limit + 1) if is_palindrome(num)]\n",
    "\n",
    "# Print the list of palindromic numbers\n",
    "print(\"Palindromic Numbers up to\", limit, \"are:\", palindromic_numbers)"
   ]
  },
  {
   "cell_type": "markdown",
   "metadata": {},
   "source": [
    "25. Write a program to flatten a nested list using list comprehension."
   ]
  },
  {
   "cell_type": "code",
   "execution_count": 21,
   "metadata": {},
   "outputs": [
    {
     "name": "stdout",
     "output_type": "stream",
     "text": [
      "Original Nested List: [[1, 2, 3], [4, 5], [6, 7, 8]]\n",
      "Flattened List: [1, 2, 3, 4, 5, 6, 7, 8]\n"
     ]
    }
   ],
   "source": [
    "def flatten_list(nested_list):\n",
    "    return [item for sublist in nested_list for item in sublist]\n",
    "\n",
    "# Example nested list\n",
    "nested_list = [[1, 2, 3], [4, 5], [6, 7, 8]]\n",
    "\n",
    "# Use the flatten_list function to flatten the nested list\n",
    "flattened_list = flatten_list(nested_list)\n",
    "\n",
    "# Print the flattened list\n",
    "print(\"Original Nested List:\", nested_list)\n",
    "print(\"Flattened List:\", flattened_list)"
   ]
  },
  {
   "cell_type": "markdown",
   "metadata": {},
   "source": [
    "26. Develop a program that computes the sum of even and odd numbers in a list separately using list comprehension."
   ]
  },
  {
   "cell_type": "code",
   "execution_count": 1,
   "metadata": {},
   "outputs": [
    {
     "name": "stdout",
     "output_type": "stream",
     "text": [
      "List of Numbers: [1, 2, 3, 4, 5, 6, 7, 8, 9]\n",
      "Even Numbers: [2, 4, 6, 8]\n",
      "Odd Numbers: [1, 3, 5, 7, 9]\n",
      "Sum of Even Numbers: 20\n",
      "Sum of Odd Numbers: 25\n"
     ]
    }
   ],
   "source": [
    "numbers = [1, 2, 3, 4, 5, 6, 7, 8, 9]\n",
    "\n",
    "# Use list comprehensions to separate even and odd numbers\n",
    "even_numbers = [num for num in numbers if num % 2 == 0]\n",
    "odd_numbers = [num for num in numbers if num % 2 != 0]\n",
    "\n",
    "# Compute the sum of even and odd numbers using the built-in sum function\n",
    "sum_even = sum(even_numbers)\n",
    "sum_odd = sum(odd_numbers)\n",
    "\n",
    "# Print the sums\n",
    "print(\"List of Numbers:\", numbers)\n",
    "print(\"Even Numbers:\", even_numbers)\n",
    "print(\"Odd Numbers:\", odd_numbers)\n",
    "print(\"Sum of Even Numbers:\", sum_even)\n",
    "print(\"Sum of Odd Numbers:\", sum_odd)"
   ]
  },
  {
   "cell_type": "markdown",
   "metadata": {},
   "source": [
    "27. Create a program that generates a list of squares of odd numbers between 1 and 10 using list comprehension."
   ]
  },
  {
   "cell_type": "code",
   "execution_count": 24,
   "metadata": {},
   "outputs": [
    {
     "name": "stdout",
     "output_type": "stream",
     "text": [
      "Squares of Odd Numbers between 1 and 10: [1, 9, 25, 49, 81]\n"
     ]
    }
   ],
   "source": [
    "odd_squares = [x**2 for x in range(1, 11) if x % 2 != 0]\n",
    "\n",
    "# Print the list of squares of odd numbers\n",
    "print(\"Squares of Odd Numbers between 1 and 10:\", odd_squares)"
   ]
  },
  {
   "cell_type": "markdown",
   "metadata": {},
   "source": [
    "28. Write a program that combines two lists into a dictionary using list comprehension."
   ]
  },
  {
   "cell_type": "code",
   "execution_count": 25,
   "metadata": {},
   "outputs": [
    {
     "name": "stdout",
     "output_type": "stream",
     "text": [
      "Combined Dictionary: {'name': 'Alice', 'age': 25, 'city': 'New York'}\n"
     ]
    }
   ],
   "source": [
    "keys = [\"name\", \"age\", \"city\"]\n",
    "values = [\"Alice\", 25, \"New York\"]\n",
    "\n",
    "# Use list comprehension to create a dictionary\n",
    "result_dict = {keys[i]: values[i] for i in range(len(keys))}\n",
    "\n",
    "# Print the resulting dictionary\n",
    "print(\"Combined Dictionary:\", result_dict)"
   ]
  },
  {
   "cell_type": "markdown",
   "metadata": {},
   "source": [
    "29. Develop a program that extracts the vowels from a string and stores them in a list using list comprehension."
   ]
  },
  {
   "cell_type": "code",
   "execution_count": 27,
   "metadata": {},
   "outputs": [
    {
     "name": "stdout",
     "output_type": "stream",
     "text": [
      "Vowels in the string: ['e', 'o']\n"
     ]
    }
   ],
   "source": [
    "input_string = \"hello\"\n",
    "\n",
    "# Use list comprehension to extract vowels from the string\n",
    "vowels = [char for char in input_string if char.lower() in 'aeiou']\n",
    "\n",
    "# Print the list of vowels\n",
    "print(\"Vowels in the string:\", vowels)"
   ]
  },
  {
   "cell_type": "markdown",
   "metadata": {},
   "source": [
    "30. Create a program that removes all non-numeric characters from a list of strings using list comprehension."
   ]
  },
  {
   "cell_type": "code",
   "execution_count": 28,
   "metadata": {},
   "outputs": [
    {
     "name": "stdout",
     "output_type": "stream",
     "text": [
      "Original List of Strings: ['abc123', '456xyz', '789', '1a2b3c']\n",
      "Numeric Strings: ['123', '456', '789', '123']\n"
     ]
    }
   ],
   "source": [
    "string_list = [\"abc123\", \"456xyz\", \"789\", \"1a2b3c\"]\n",
    "\n",
    "# Use list comprehension to remove non-numeric characters from each string\n",
    "numeric_strings = [''.join(char for char in string if char.isdigit()) for string in string_list]\n",
    "\n",
    "# Print the list of numeric strings\n",
    "print(\"Original List of Strings:\", string_list)\n",
    "print(\"Numeric Strings:\", numeric_strings)"
   ]
  },
  {
   "cell_type": "markdown",
   "metadata": {},
   "source": [
    "31. Write a program to generate a list of prime numbers using the Sieve of Eratosthenes algorithm and list comprehension."
   ]
  },
  {
   "cell_type": "code",
   "execution_count": 2,
   "metadata": {},
   "outputs": [
    {
     "name": "stdout",
     "output_type": "stream",
     "text": [
      "Prime numbers up to 67 are:\n",
      "[2, 3, 5, 7, 11, 13, 17, 19, 23, 29, 31, 37, 41, 43, 47, 53, 59, 61, 67]\n"
     ]
    }
   ],
   "source": [
    "def sieve_of_eratosthenes(limit):\n",
    "    sieve = [True] * (limit + 1)\n",
    "    sieve[0] = sieve[1] = False\n",
    "\n",
    "    for i in range(2, int(limit**0.5) + 1):\n",
    "        if sieve[i]:\n",
    "            for j in range(i * i, limit + 1, i):\n",
    "                sieve[j] = False\n",
    "\n",
    "    prime_numbers = [i for i in range(2, limit + 1) if sieve[i]]\n",
    "    return prime_numbers\n",
    "\n",
    "# Set the limit for prime number generation\n",
    "limit = int(input(\"Enter a limit to generate prime numbers up to: \"))\n",
    "\n",
    "prime_list = sieve_of_eratosthenes(limit)\n",
    "print(\"Prime numbers up to\", limit, \"are:\")\n",
    "print(prime_list)"
   ]
  },
  {
   "cell_type": "markdown",
   "metadata": {},
   "source": [
    "32. Create a program that generates a list of all Pythagorean triplets up to a specified limit using list comprehension."
   ]
  },
  {
   "cell_type": "code",
   "execution_count": 3,
   "metadata": {},
   "outputs": [
    {
     "name": "stdout",
     "output_type": "stream",
     "text": [
      "Pythagorean triplets up to 100 are:\n",
      "[(3, 4, 5), (5, 12, 13), (6, 8, 10), (7, 24, 25), (8, 15, 17), (9, 12, 15), (9, 40, 41), (10, 24, 26), (11, 60, 61), (12, 16, 20), (12, 35, 37), (13, 84, 85), (14, 48, 50), (15, 20, 25), (15, 36, 39), (16, 30, 34), (16, 63, 65), (18, 24, 30), (18, 80, 82), (20, 21, 29), (20, 48, 52), (21, 28, 35), (21, 72, 75), (24, 32, 40), (24, 45, 51), (24, 70, 74), (25, 60, 65), (27, 36, 45), (28, 45, 53), (28, 96, 100), (30, 40, 50), (30, 72, 78), (32, 60, 68), (33, 44, 55), (33, 56, 65), (35, 84, 91), (36, 48, 60), (36, 77, 85), (39, 52, 65), (39, 80, 89), (40, 42, 58), (40, 75, 85), (42, 56, 70), (45, 60, 75), (48, 55, 73), (48, 64, 80), (51, 68, 85), (54, 72, 90), (57, 76, 95), (60, 63, 87), (60, 80, 100), (65, 72, 97)]\n"
     ]
    }
   ],
   "source": [
    "def generate_pythagorean_triplets(limit):\n",
    "    triplets = [(a, b, c) for a in range(1, limit + 1)\n",
    "                         for b in range(a, limit + 1)\n",
    "                         for c in range(b, limit + 1)\n",
    "                         if a**2 + b**2 == c**2]\n",
    "    return triplets\n",
    "\n",
    "# Set the limit for Pythagorean triplets generation\n",
    "limit = int(input(\"Enter a limit to generate Pythagorean triplets up to: \"))\n",
    "\n",
    "pythagorean_triplets = generate_pythagorean_triplets(limit)\n",
    "print(\"Pythagorean triplets up to\", limit, \"are:\")\n",
    "print(pythagorean_triplets)"
   ]
  },
  {
   "cell_type": "markdown",
   "metadata": {},
   "source": [
    "33. Develop a program that generates a list of all possible combinations of two lists using list comprehension."
   ]
  },
  {
   "cell_type": "code",
   "execution_count": 4,
   "metadata": {},
   "outputs": [
    {
     "name": "stdout",
     "output_type": "stream",
     "text": [
      "All possible combinations of the two lists:\n",
      "[(1, 'a'), (1, 'b'), (1, 'c'), (2, 'a'), (2, 'b'), (2, 'c'), (3, 'a'), (3, 'b'), (3, 'c')]\n"
     ]
    }
   ],
   "source": [
    "list1 = [1, 2, 3]\n",
    "list2 = ['a', 'b', 'c']\n",
    "\n",
    "combinations = [(x, y) for x in list1 for y in list2]\n",
    "\n",
    "print(\"All possible combinations of the two lists:\")\n",
    "print(combinations)"
   ]
  },
  {
   "cell_type": "markdown",
   "metadata": {},
   "source": [
    "34. Write a program that calculates the mean, median, and mode of a list of numbers using list comprehension."
   ]
  },
  {
   "cell_type": "code",
   "execution_count": 5,
   "metadata": {},
   "outputs": [
    {
     "name": "stdout",
     "output_type": "stream",
     "text": [
      "List of numbers: [5, 3, 2, 7, 2, 8, 4, 5, 9, 2]\n",
      "Mean: 4.7\n",
      "Median: 4.5\n",
      "Mode: 2\n"
     ]
    }
   ],
   "source": [
    "numbers = [5, 3, 2, 7, 2, 8, 4, 5, 9, 2]\n",
    "\n",
    "# Calculate mean using list comprehension\n",
    "mean_value = sum(numbers) / len(numbers)\n",
    "\n",
    "# Calculate median using list comprehension\n",
    "sorted_numbers = sorted(numbers)\n",
    "middle = len(sorted_numbers) // 2\n",
    "median_value = (sorted_numbers[middle] + sorted_numbers[-middle - 1]) / 2\n",
    "\n",
    "# Calculate mode using list comprehension\n",
    "mode_value = max((numbers.count(x), x) for x in set(numbers))[1]\n",
    "\n",
    "print(\"List of numbers:\", numbers)\n",
    "print(\"Mean:\", mean_value)\n",
    "print(\"Median:\", median_value)\n",
    "print(\"Mode:\", mode_value)"
   ]
  },
  {
   "cell_type": "markdown",
   "metadata": {},
   "source": [
    "35. Create a program that generates Pascal's triangle up to a specified number of rows using list comprehension."
   ]
  },
  {
   "cell_type": "code",
   "execution_count": 6,
   "metadata": {},
   "outputs": [
    {
     "name": "stdout",
     "output_type": "stream",
     "text": [
      "[1]\n",
      "[1, 1]\n",
      "[1, 2, 1]\n",
      "[1, 3, 3, 1]\n"
     ]
    }
   ],
   "source": [
    "def generate_pascals_triangle(n):\n",
    "    if n == 0:\n",
    "        return []\n",
    "    elif n == 1:\n",
    "        return [[1]]\n",
    "\n",
    "    triangle = generate_pascals_triangle(n - 1)\n",
    "    last_row = triangle[-1]\n",
    "\n",
    "    new_row = [1] + [last_row[i] + last_row[i + 1] for i in range(len(last_row) - 1)] + [1]\n",
    "    triangle.append(new_row)\n",
    "\n",
    "    return triangle\n",
    "\n",
    "# Set the number of rows for Pascal's triangle\n",
    "num_rows = int(input(\"Enter the number of rows for Pascal's triangle: \"))\n",
    "\n",
    "pascals_triangle = generate_pascals_triangle(num_rows)\n",
    "\n",
    "# Print Pascal's triangle\n",
    "for row in pascals_triangle:\n",
    "    print(row)"
   ]
  },
  {
   "cell_type": "markdown",
   "metadata": {},
   "source": [
    "36. Develop a program that calculates the sum of the digits of a factorial of numbers from 1 to 5 using list comprehension."
   ]
  },
  {
   "cell_type": "code",
   "execution_count": 7,
   "metadata": {},
   "outputs": [
    {
     "name": "stdout",
     "output_type": "stream",
     "text": [
      "Factorial of 1 is 1, and the sum of its digits is 1\n",
      "Factorial of 2 is 2, and the sum of its digits is 2\n",
      "Factorial of 3 is 6, and the sum of its digits is 6\n",
      "Factorial of 4 is 24, and the sum of its digits is 6\n",
      "Factorial of 5 is 120, and the sum of its digits is 3\n"
     ]
    }
   ],
   "source": [
    "def factorial(n):\n",
    "    if n == 0:\n",
    "        return 1\n",
    "    else:\n",
    "        return n * factorial(n - 1)\n",
    "\n",
    "def sum_of_digits(number):\n",
    "    return sum(int(digit) for digit in str(number))\n",
    "\n",
    "# Calculate factorial and sum of digits for numbers 1 to 5\n",
    "numbers = [1, 2, 3, 4, 5]\n",
    "factorials = [factorial(n) for n in numbers]\n",
    "sums = [sum_of_digits(f) for f in factorials]\n",
    "\n",
    "# Display the results\n",
    "for i in range(len(numbers)):\n",
    "    print(f\"Factorial of {numbers[i]} is {factorials[i]}, and the sum of its digits is {sums[i]}\")"
   ]
  },
  {
   "cell_type": "markdown",
   "metadata": {},
   "source": [
    "37. Write a program that finds the longest word in a sentence using list comprehension."
   ]
  },
  {
   "cell_type": "code",
   "execution_count": 8,
   "metadata": {},
   "outputs": [
    {
     "name": "stdout",
     "output_type": "stream",
     "text": [
      "The longest word in the sentence is: how\n"
     ]
    }
   ],
   "source": [
    "sentence = input(\"Enter a sentence: \")\n",
    "\n",
    "# Split the sentence into words\n",
    "words = sentence.split()\n",
    "\n",
    "# Use list comprehension to find the longest word\n",
    "longest_word = max(words, key=len)\n",
    "\n",
    "print(f\"The longest word in the sentence is: {longest_word}\")"
   ]
  },
  {
   "cell_type": "markdown",
   "metadata": {},
   "source": [
    "38. Create a program that filters a list of strings to include only those with more than three vowels using list comprehension."
   ]
  },
  {
   "cell_type": "code",
   "execution_count": 9,
   "metadata": {},
   "outputs": [
    {
     "name": "stdout",
     "output_type": "stream",
     "text": [
      "Strings with more than three vowels:\n",
      "['grapefruit']\n"
     ]
    }
   ],
   "source": [
    "def count_vowels(s):\n",
    "    vowels = \"aeiouAEIOU\"\n",
    "    return sum(1 for char in s if char in vowels)\n",
    "\n",
    "# Sample list of strings\n",
    "string_list = [\"apple\", \"banana\", \"cherry\", \"dog\", \"elephant\", \"grapefruit\"]\n",
    "\n",
    "# Use list comprehension to filter strings with more than three vowels\n",
    "filtered_strings = [s for s in string_list if count_vowels(s) > 3]\n",
    "\n",
    "print(\"Strings with more than three vowels:\")\n",
    "print(filtered_strings)"
   ]
  },
  {
   "cell_type": "markdown",
   "metadata": {},
   "source": [
    "39. Develop a program that calculates the sum of the digits of numbers from 1 to 1000 using list comprehension."
   ]
  },
  {
   "cell_type": "code",
   "execution_count": 10,
   "metadata": {},
   "outputs": [
    {
     "name": "stdout",
     "output_type": "stream",
     "text": [
      "Sum of digits for numbers from 1 to 1000:\n",
      "[1, 2, 3, 4, 5, 6, 7, 8, 9, 1, 2, 3, 4, 5, 6, 7, 8, 9, 10, 2, 3, 4, 5, 6, 7, 8, 9, 10, 11, 3, 4, 5, 6, 7, 8, 9, 10, 11, 12, 4, 5, 6, 7, 8, 9, 10, 11, 12, 13, 5, 6, 7, 8, 9, 10, 11, 12, 13, 14, 6, 7, 8, 9, 10, 11, 12, 13, 14, 15, 7, 8, 9, 10, 11, 12, 13, 14, 15, 16, 8, 9, 10, 11, 12, 13, 14, 15, 16, 17, 9, 10, 11, 12, 13, 14, 15, 16, 17, 18, 1, 2, 3, 4, 5, 6, 7, 8, 9, 10, 2, 3, 4, 5, 6, 7, 8, 9, 10, 11, 3, 4, 5, 6, 7, 8, 9, 10, 11, 12, 4, 5, 6, 7, 8, 9, 10, 11, 12, 13, 5, 6, 7, 8, 9, 10, 11, 12, 13, 14, 6, 7, 8, 9, 10, 11, 12, 13, 14, 15, 7, 8, 9, 10, 11, 12, 13, 14, 15, 16, 8, 9, 10, 11, 12, 13, 14, 15, 16, 17, 9, 10, 11, 12, 13, 14, 15, 16, 17, 18, 10, 11, 12, 13, 14, 15, 16, 17, 18, 19, 2, 3, 4, 5, 6, 7, 8, 9, 10, 11, 3, 4, 5, 6, 7, 8, 9, 10, 11, 12, 4, 5, 6, 7, 8, 9, 10, 11, 12, 13, 5, 6, 7, 8, 9, 10, 11, 12, 13, 14, 6, 7, 8, 9, 10, 11, 12, 13, 14, 15, 7, 8, 9, 10, 11, 12, 13, 14, 15, 16, 8, 9, 10, 11, 12, 13, 14, 15, 16, 17, 9, 10, 11, 12, 13, 14, 15, 16, 17, 18, 10, 11, 12, 13, 14, 15, 16, 17, 18, 19, 11, 12, 13, 14, 15, 16, 17, 18, 19, 20, 3, 4, 5, 6, 7, 8, 9, 10, 11, 12, 4, 5, 6, 7, 8, 9, 10, 11, 12, 13, 5, 6, 7, 8, 9, 10, 11, 12, 13, 14, 6, 7, 8, 9, 10, 11, 12, 13, 14, 15, 7, 8, 9, 10, 11, 12, 13, 14, 15, 16, 8, 9, 10, 11, 12, 13, 14, 15, 16, 17, 9, 10, 11, 12, 13, 14, 15, 16, 17, 18, 10, 11, 12, 13, 14, 15, 16, 17, 18, 19, 11, 12, 13, 14, 15, 16, 17, 18, 19, 20, 12, 13, 14, 15, 16, 17, 18, 19, 20, 21, 4, 5, 6, 7, 8, 9, 10, 11, 12, 13, 5, 6, 7, 8, 9, 10, 11, 12, 13, 14, 6, 7, 8, 9, 10, 11, 12, 13, 14, 15, 7, 8, 9, 10, 11, 12, 13, 14, 15, 16, 8, 9, 10, 11, 12, 13, 14, 15, 16, 17, 9, 10, 11, 12, 13, 14, 15, 16, 17, 18, 10, 11, 12, 13, 14, 15, 16, 17, 18, 19, 11, 12, 13, 14, 15, 16, 17, 18, 19, 20, 12, 13, 14, 15, 16, 17, 18, 19, 20, 21, 13, 14, 15, 16, 17, 18, 19, 20, 21, 22, 5, 6, 7, 8, 9, 10, 11, 12, 13, 14, 6, 7, 8, 9, 10, 11, 12, 13, 14, 15, 7, 8, 9, 10, 11, 12, 13, 14, 15, 16, 8, 9, 10, 11, 12, 13, 14, 15, 16, 17, 9, 10, 11, 12, 13, 14, 15, 16, 17, 18, 10, 11, 12, 13, 14, 15, 16, 17, 18, 19, 11, 12, 13, 14, 15, 16, 17, 18, 19, 20, 12, 13, 14, 15, 16, 17, 18, 19, 20, 21, 13, 14, 15, 16, 17, 18, 19, 20, 21, 22, 14, 15, 16, 17, 18, 19, 20, 21, 22, 23, 6, 7, 8, 9, 10, 11, 12, 13, 14, 15, 7, 8, 9, 10, 11, 12, 13, 14, 15, 16, 8, 9, 10, 11, 12, 13, 14, 15, 16, 17, 9, 10, 11, 12, 13, 14, 15, 16, 17, 18, 10, 11, 12, 13, 14, 15, 16, 17, 18, 19, 11, 12, 13, 14, 15, 16, 17, 18, 19, 20, 12, 13, 14, 15, 16, 17, 18, 19, 20, 21, 13, 14, 15, 16, 17, 18, 19, 20, 21, 22, 14, 15, 16, 17, 18, 19, 20, 21, 22, 23, 15, 16, 17, 18, 19, 20, 21, 22, 23, 24, 7, 8, 9, 10, 11, 12, 13, 14, 15, 16, 8, 9, 10, 11, 12, 13, 14, 15, 16, 17, 9, 10, 11, 12, 13, 14, 15, 16, 17, 18, 10, 11, 12, 13, 14, 15, 16, 17, 18, 19, 11, 12, 13, 14, 15, 16, 17, 18, 19, 20, 12, 13, 14, 15, 16, 17, 18, 19, 20, 21, 13, 14, 15, 16, 17, 18, 19, 20, 21, 22, 14, 15, 16, 17, 18, 19, 20, 21, 22, 23, 15, 16, 17, 18, 19, 20, 21, 22, 23, 24, 16, 17, 18, 19, 20, 21, 22, 23, 24, 25, 8, 9, 10, 11, 12, 13, 14, 15, 16, 17, 9, 10, 11, 12, 13, 14, 15, 16, 17, 18, 10, 11, 12, 13, 14, 15, 16, 17, 18, 19, 11, 12, 13, 14, 15, 16, 17, 18, 19, 20, 12, 13, 14, 15, 16, 17, 18, 19, 20, 21, 13, 14, 15, 16, 17, 18, 19, 20, 21, 22, 14, 15, 16, 17, 18, 19, 20, 21, 22, 23, 15, 16, 17, 18, 19, 20, 21, 22, 23, 24, 16, 17, 18, 19, 20, 21, 22, 23, 24, 25, 17, 18, 19, 20, 21, 22, 23, 24, 25, 26, 9, 10, 11, 12, 13, 14, 15, 16, 17, 18, 10, 11, 12, 13, 14, 15, 16, 17, 18, 19, 11, 12, 13, 14, 15, 16, 17, 18, 19, 20, 12, 13, 14, 15, 16, 17, 18, 19, 20, 21, 13, 14, 15, 16, 17, 18, 19, 20, 21, 22, 14, 15, 16, 17, 18, 19, 20, 21, 22, 23, 15, 16, 17, 18, 19, 20, 21, 22, 23, 24, 16, 17, 18, 19, 20, 21, 22, 23, 24, 25, 17, 18, 19, 20, 21, 22, 23, 24, 25, 26, 18, 19, 20, 21, 22, 23, 24, 25, 26, 27, 1]\n",
      "Total sum of digits: 13501\n"
     ]
    }
   ],
   "source": [
    "def sum_of_digits(number):\n",
    "    return sum(int(digit) for digit in str(number))\n",
    "\n",
    "# Use list comprehension to calculate the sum of digits for numbers from 1 to 1000\n",
    "sums = [sum_of_digits(n) for n in range(1, 1001)]\n",
    "\n",
    "# Calculate and print the total sum of digits\n",
    "total_sum = sum(sums)\n",
    "\n",
    "print(\"Sum of digits for numbers from 1 to 1000:\")\n",
    "print(sums)\n",
    "print(\"Total sum of digits:\", total_sum)"
   ]
  },
  {
   "cell_type": "markdown",
   "metadata": {},
   "source": [
    "40. Write a program that generates a list of prime palindromic numbers using list comprehension."
   ]
  },
  {
   "cell_type": "code",
   "execution_count": 11,
   "metadata": {},
   "outputs": [
    {
     "name": "stdout",
     "output_type": "stream",
     "text": [
      "Prime palindromic numbers up to 45 are:\n",
      "[2, 3, 5, 7, 11]\n"
     ]
    }
   ],
   "source": [
    "def is_prime(number):\n",
    "    if number < 2:\n",
    "        return False\n",
    "    for i in range(2, int(number ** 0.5) + 1):\n",
    "        if number % i == 0:\n",
    "            return False\n",
    "    return True\n",
    "\n",
    "def is_palindrome(number):\n",
    "    return str(number) == str(number)[::-1]\n",
    "\n",
    "# Generate a list of prime palindromic numbers using list comprehension\n",
    "limit = int(input(\"Enter a limit to generate prime palindromic numbers up to: \"))\n",
    "\n",
    "prime_palindromic_numbers = [num for num in range(2, limit + 1) if is_prime(num) and is_palindrome(num)]\n",
    "\n",
    "print(\"Prime palindromic numbers up to\", limit, \"are:\")\n",
    "print(prime_palindromic_numbers)"
   ]
  }
 ],
 "metadata": {
  "kernelspec": {
   "display_name": "Python 3",
   "language": "python",
   "name": "python3"
  },
  "language_info": {
   "codemirror_mode": {
    "name": "ipython",
    "version": 3
   },
   "file_extension": ".py",
   "mimetype": "text/x-python",
   "name": "python",
   "nbconvert_exporter": "python",
   "pygments_lexer": "ipython3",
   "version": "3.11.5"
  },
  "orig_nbformat": 4
 },
 "nbformat": 4,
 "nbformat_minor": 2
}
