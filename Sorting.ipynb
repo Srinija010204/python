{
 "cells": [
  {
   "cell_type": "markdown",
   "metadata": {},
   "source": [
    "Problem 1.Given an array of n numbers, give an algorithm which gives the element appearing maximum\n",
    "number of times?\n",
    "\n",
    "Problem 2 : We are given a list of n-1 integers and these integers are in the range of 1 to n . There are no duplicates in the list. One of the integers is missing in the list. Give an algorithm to find that element Ex:[1,2,4,6,3,7,8] 5 is the missing num.\n",
    "\n",
    "Problem 3 : Given an array of n positive numbers. All numbers occurs even number of times except 1 which\n",
    "occurs odd number of times. Find that number in O(n) time and O(1) space. Ex: [1,2,3,2,3,1,3]. 3 is repeats odd times.\n",
    "\n",
    "Problem 4 : Given an array of n elements. Find two elements in the array such that their sum is equal to given element K.\n",
    "\n",
    "Problem 5 : Given an array of both positive and negative numbers, find two numbers such that their sum is\n",
    "closest to 0. Ex: [ 1 ,60 ,-10, 70, -80,85]. Ans : -80,85.\n",
    "\n",
    "Problem 6 : Given an array of n elements . Find three elements such that their sum is equal to the given\n",
    "number.\n",
    "\n",
    "Problem 7 : Given an array of n elements . Find three elements i, j, k in the array such that\n",
    "i * i + j * j = k*k.\n",
    "\n",
    "Problem 8 : An element is a majority if it appears more than n/2 times. Give an algorithm takes an array of n element as argument and identifies a majority (if it exists).\n",
    "\n",
    "Problem 9 : Given n × n matrix, and in each row all 1’s are followed by 0’s. Find the row with the maximum number of 0’s.\n",
    "\n",
    "Problem 10 : Sort an array of 0’s, 1’s and 2’s [or R’s, G’s and B’s]: Given an array A[] consisting of 0’s, 1’s and 2’s, give an algorithm for sorting A[].The algorithm should put all 0’s first, then all 1’s and finally all 2’s at the end. \n",
    "Example :\n",
    "Input = {0,1,1,0,1,2,1,2,0,0,0,1}, \n",
    "Output = {0,0,0,0,0,1,1,1,1,1,2,2}"
   ]
  },
  {
   "cell_type": "code",
   "execution_count": 6,
   "metadata": {},
   "outputs": [
    {
     "name": "stdout",
     "output_type": "stream",
     "text": [
      " The element appearing maximum number of times is : 2\n"
     ]
    }
   ],
   "source": [
    "#1\n",
    "arr = [1, 5, 7, 2, 4, 2, 6, 4, 7, 4, 8, 9, 1, 2, 2, 2, 2, 2, 3]\n",
    "dict = {}\n",
    "for i in arr:\n",
    "    if i not in dict.keys():\n",
    "        dict[i] = 1\n",
    "    else:\n",
    "        dict[i] += 1\n",
    "\n",
    "count = 0\n",
    "value = 0\n",
    "for key in dict.keys():\n",
    "    if count < dict[key]:\n",
    "        count = dict[key]\n",
    "        value = key\n",
    "print(f\" The element appearing maximum number of times is : {value}\")"
   ]
  },
  {
   "cell_type": "code",
   "execution_count": 12,
   "metadata": {},
   "outputs": [
    {
     "name": "stdout",
     "output_type": "stream",
     "text": [
      "The missing value is : 5\n"
     ]
    }
   ],
   "source": [
    "#2\n",
    "arr = [1,2,4,6,3,7,8]\n",
    "length = len(arr)\n",
    "dict = {}\n",
    "for i in range(1, length+2):\n",
    "    dict[i] = 0\n",
    "\n",
    "for i in arr:\n",
    "    dict[i] = 1\n",
    "\n",
    "for key,value in dict.items():\n",
    "    if value == 0:\n",
    "        print(f\"The missing value is : {key}\")\n",
    "        break"
   ]
  },
  {
   "cell_type": "code",
   "execution_count": 17,
   "metadata": {},
   "outputs": [
    {
     "name": "stdout",
     "output_type": "stream",
     "text": [
      "3 is repeating odd no of times\n"
     ]
    }
   ],
   "source": [
    "#3\n",
    "arr = [1,2,3,2,3,1,3]\n",
    "dict = {}\n",
    "for i in arr:\n",
    "    if i not in dict.keys():\n",
    "        dict[i] = 1\n",
    "    else:\n",
    "        dict[i] += 1 \n",
    "\n",
    "for key, value in dict.items():\n",
    "    if value%2 != 0:\n",
    "        print(f\"{key} is repeating odd no of times\")\n",
    "        break"
   ]
  },
  {
   "cell_type": "code",
   "execution_count": 21,
   "metadata": {},
   "outputs": [
    {
     "name": "stdout",
     "output_type": "stream",
     "text": [
      "Pair found: (2, 8)\n"
     ]
    }
   ],
   "source": [
    "#4\n",
    "def find_pair_with_sum(arr, K):\n",
    "    seen = set()\n",
    "\n",
    "    for num in arr:\n",
    "        complement = K - num\n",
    "        if complement in seen:\n",
    "            return (complement, num)\n",
    "        seen.add(num)\n",
    "    return None\n",
    "\n",
    "arr = [2, 3, 8, 5, 7, 1, 6, 4]\n",
    "K = 10\n",
    "result = find_pair_with_sum(arr, K)\n",
    "\n",
    "if result:\n",
    "    print(f'Pair found: {result}')\n",
    "else:\n",
    "    print('No pair found that sums up to', K)"
   ]
  },
  {
   "cell_type": "code",
   "execution_count": 1,
   "metadata": {},
   "outputs": [
    {
     "name": "stdout",
     "output_type": "stream",
     "text": [
      "(-80, 85)\n"
     ]
    }
   ],
   "source": [
    "#5\n",
    "def closest_to_zero(arr):\n",
    "    arr.sort()\n",
    "    left = 0\n",
    "    right = len(arr) - 1\n",
    "    closest_sum = float('inf')\n",
    "    closest_pair = (0, 0)\n",
    "\n",
    "    while left < right:\n",
    "        current_sum = arr[left] + arr[right]\n",
    "        if abs(current_sum) < abs(closest_sum):\n",
    "            closest_sum = current_sum\n",
    "            closest_pair = (arr[left], arr[right])\n",
    "        \n",
    "        if current_sum > 0:\n",
    "            right -= 1\n",
    "        else:\n",
    "            left += 1\n",
    "    \n",
    "    return closest_pair\n",
    "\n",
    "arr = [1, 60, -10, 70, -80, 85]\n",
    "print(closest_to_zero(arr))"
   ]
  },
  {
   "cell_type": "code",
   "execution_count": 2,
   "metadata": {},
   "outputs": [
    {
     "name": "stdout",
     "output_type": "stream",
     "text": [
      "(3, 9, 12)\n"
     ]
    }
   ],
   "source": [
    "#6\n",
    "def find_three_sum(arr, target):\n",
    "    arr.sort()\n",
    "    n = len(arr)\n",
    "    for i in range(n - 2):\n",
    "        left = i + 1\n",
    "        right = n - 1\n",
    "        while left < right:\n",
    "            current_sum = arr[i] + arr[left] + arr[right]\n",
    "            if current_sum == target:\n",
    "                return (arr[i], arr[left], arr[right])\n",
    "            elif current_sum < target:\n",
    "                left += 1\n",
    "            else:\n",
    "                right -= 1\n",
    "    return None\n",
    "\n",
    "arr = [12, 3, 4, 1, 6, 9]\n",
    "target = 24\n",
    "print(find_three_sum(arr, target))"
   ]
  },
  {
   "cell_type": "code",
   "execution_count": 3,
   "metadata": {},
   "outputs": [
    {
     "name": "stdout",
     "output_type": "stream",
     "text": [
      "(3, 4, 5)\n"
     ]
    }
   ],
   "source": [
    "#7\n",
    "def find_pythagorean_triplet(arr):\n",
    "    squares = {x * x for x in arr}\n",
    "    n = len(arr)\n",
    "    for i in range(n):\n",
    "        for j in range(i + 1, n):\n",
    "            if arr[i] * arr[i] + arr[j] * arr[j] in squares:\n",
    "                return (arr[i], arr[j], int((arr[i] * arr[i] + arr[j] * arr[j]) ** 0.5))\n",
    "    return None\n",
    "\n",
    "\n",
    "arr = [3, 1, 4, 6, 5]\n",
    "print(find_pythagorean_triplet(arr))"
   ]
  },
  {
   "cell_type": "code",
   "execution_count": 4,
   "metadata": {},
   "outputs": [
    {
     "name": "stdout",
     "output_type": "stream",
     "text": [
      "4\n"
     ]
    }
   ],
   "source": [
    "#8\n",
    "def find_majority_element(arr):\n",
    "    candidate = None\n",
    "    count = 0\n",
    "    \n",
    "    for num in arr:\n",
    "        if count == 0:\n",
    "            candidate = num\n",
    "        count += (1 if num == candidate else -1)\n",
    "    \n",
    "    if arr.count(candidate) > len(arr) // 2:\n",
    "        return candidate\n",
    "    else:\n",
    "        return None\n",
    "\n",
    "arr = [3, 3, 4, 2, 4, 4, 2, 4, 4]\n",
    "print(find_majority_element(arr)) "
   ]
  },
  {
   "cell_type": "code",
   "execution_count": 5,
   "metadata": {},
   "outputs": [
    {
     "name": "stdout",
     "output_type": "stream",
     "text": [
      "3\n"
     ]
    }
   ],
   "source": [
    "#9\n",
    "def row_with_max_zeros(matrix):\n",
    "    n = len(matrix)\n",
    "    row_index = 0\n",
    "    col_index = n - 1\n",
    "    max_zeros_row = -1\n",
    "    max_zeros_count = 0\n",
    "\n",
    "    while row_index < n and col_index >= 0:\n",
    "        if matrix[row_index][col_index] == 0:\n",
    "            max_zeros_count = n - col_index\n",
    "            max_zeros_row = row_index\n",
    "            col_index -= 1\n",
    "        else:\n",
    "            row_index += 1\n",
    "    \n",
    "    return max_zeros_row\n",
    "\n",
    "matrix = [\n",
    "    [1, 1, 1, 0, 0],\n",
    "    [1, 1, 0, 0, 0],\n",
    "    [1, 1, 1, 1, 0],\n",
    "    [1, 0, 0, 0, 0],\n",
    "    [1, 1, 1, 0, 0]\n",
    "]\n",
    "print(row_with_max_zeros(matrix))"
   ]
  },
  {
   "cell_type": "code",
   "execution_count": 6,
   "metadata": {},
   "outputs": [
    {
     "name": "stdout",
     "output_type": "stream",
     "text": [
      "[0, 0, 0, 0, 0, 1, 1, 1, 1, 1, 2, 2]\n"
     ]
    }
   ],
   "source": [
    "#10\n",
    "def dutch_national_flag_sort(arr):\n",
    "    low, mid, high = 0, 0, len(arr) - 1\n",
    "\n",
    "    while mid <= high:\n",
    "        if arr[mid] == 0:\n",
    "            arr[low], arr[mid] = arr[mid], arr[low]\n",
    "            low += 1\n",
    "            mid += 1\n",
    "        elif arr[mid] == 1:\n",
    "            mid += 1\n",
    "        else: \n",
    "            arr[high], arr[mid] = arr[mid], arr[high]\n",
    "            high -= 1\n",
    "    \n",
    "    return arr\n",
    "\n",
    "arr = [0, 1, 1, 0, 1, 2, 1, 2, 0, 0, 0, 1]\n",
    "sorted_arr = dutch_national_flag_sort(arr)\n",
    "print(sorted_arr)"
   ]
  }
 ],
 "metadata": {
  "kernelspec": {
   "display_name": "Python 3",
   "language": "python",
   "name": "python3"
  },
  "language_info": {
   "codemirror_mode": {
    "name": "ipython",
    "version": 3
   },
   "file_extension": ".py",
   "mimetype": "text/x-python",
   "name": "python",
   "nbconvert_exporter": "python",
   "pygments_lexer": "ipython3",
   "version": "3.11.9"
  }
 },
 "nbformat": 4,
 "nbformat_minor": 2
}
